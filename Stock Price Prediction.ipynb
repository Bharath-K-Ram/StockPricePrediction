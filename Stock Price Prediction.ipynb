{
 "cells": [
  {
   "cell_type": "markdown",
   "id": "b5ea22f5",
   "metadata": {},
   "source": [
    "# Stock price prediction"
   ]
  },
  {
   "cell_type": "code",
   "execution_count": 1,
   "id": "44330be2",
   "metadata": {
    "scrolled": true
   },
   "outputs": [
    {
     "name": "stdout",
     "output_type": "stream",
     "text": [
      "Requirement already satisfied: pandas in ./lib/python3.8/site-packages (1.4.1)\r\n",
      "Requirement already satisfied: numpy>=1.18.5; platform_machine != \"aarch64\" and platform_machine != \"arm64\" and python_version < \"3.10\" in ./lib/python3.8/site-packages (from pandas) (1.22.2)\r\n",
      "Requirement already satisfied: pytz>=2020.1 in ./lib/python3.8/site-packages (from pandas) (2021.3)\r\n",
      "Requirement already satisfied: python-dateutil>=2.8.1 in ./lib/python3.8/site-packages (from pandas) (2.8.2)\r\n",
      "Requirement already satisfied: six>=1.5 in ./lib/python3.8/site-packages (from python-dateutil>=2.8.1->pandas) (1.16.0)\r\n"
     ]
    }
   ],
   "source": [
    "!pip install pandas"
   ]
  },
  {
   "cell_type": "code",
   "execution_count": 2,
   "id": "cf3350fb",
   "metadata": {},
   "outputs": [
    {
     "name": "stdout",
     "output_type": "stream",
     "text": [
      "Requirement already satisfied: matplotlib in ./lib/python3.8/site-packages (3.5.1)\n",
      "Requirement already satisfied: numpy>=1.17 in ./lib/python3.8/site-packages (from matplotlib) (1.22.2)\n",
      "Requirement already satisfied: cycler>=0.10 in ./lib/python3.8/site-packages (from matplotlib) (0.11.0)\n",
      "Requirement already satisfied: packaging>=20.0 in ./lib/python3.8/site-packages (from matplotlib) (21.3)\n",
      "Requirement already satisfied: kiwisolver>=1.0.1 in ./lib/python3.8/site-packages (from matplotlib) (1.3.2)\n",
      "Requirement already satisfied: pyparsing>=2.2.1 in ./lib/python3.8/site-packages (from matplotlib) (3.0.7)\n",
      "Requirement already satisfied: fonttools>=4.22.0 in ./lib/python3.8/site-packages (from matplotlib) (4.29.1)\n",
      "Requirement already satisfied: pillow>=6.2.0 in ./lib/python3.8/site-packages (from matplotlib) (9.0.1)\n",
      "Requirement already satisfied: python-dateutil>=2.7 in ./lib/python3.8/site-packages (from matplotlib) (2.8.2)\n",
      "Requirement already satisfied: six>=1.5 in ./lib/python3.8/site-packages (from python-dateutil>=2.7->matplotlib) (1.16.0)\n"
     ]
    }
   ],
   "source": [
    "!pip install matplotlib"
   ]
  },
  {
   "cell_type": "code",
   "execution_count": 3,
   "id": "60049cca",
   "metadata": {},
   "outputs": [
    {
     "name": "stdout",
     "output_type": "stream",
     "text": [
      "Requirement already satisfied: statistics in ./lib/python3.8/site-packages (1.0.3.5)\n",
      "Requirement already satisfied: docutils>=0.3 in ./lib/python3.8/site-packages (from statistics) (0.18.1)\n",
      "Requirement already satisfied: statsmodels in ./lib/python3.8/site-packages (0.13.2)\n",
      "Requirement already satisfied: packaging>=21.3 in ./lib/python3.8/site-packages (from statsmodels) (21.3)\n",
      "Requirement already satisfied: pandas>=0.25 in ./lib/python3.8/site-packages (from statsmodels) (1.4.1)\n",
      "Requirement already satisfied: numpy>=1.17 in ./lib/python3.8/site-packages (from statsmodels) (1.22.2)\n",
      "Requirement already satisfied: scipy>=1.3 in ./lib/python3.8/site-packages (from statsmodels) (1.8.0)\n",
      "Requirement already satisfied: patsy>=0.5.2 in ./lib/python3.8/site-packages (from statsmodels) (0.5.2)\n",
      "Requirement already satisfied: pyparsing!=3.0.5,>=2.0.2 in ./lib/python3.8/site-packages (from packaging>=21.3->statsmodels) (3.0.7)\n",
      "Requirement already satisfied: python-dateutil>=2.8.1 in ./lib/python3.8/site-packages (from pandas>=0.25->statsmodels) (2.8.2)\n",
      "Requirement already satisfied: pytz>=2020.1 in ./lib/python3.8/site-packages (from pandas>=0.25->statsmodels) (2021.3)\n",
      "Requirement already satisfied: six in ./lib/python3.8/site-packages (from patsy>=0.5.2->statsmodels) (1.16.0)\n",
      "Requirement already satisfied: sklearn in ./lib/python3.8/site-packages (0.0)\n",
      "Requirement already satisfied: scikit-learn in ./lib/python3.8/site-packages (from sklearn) (1.0.2)\n",
      "Requirement already satisfied: joblib>=0.11 in ./lib/python3.8/site-packages (from scikit-learn->sklearn) (1.1.0)\n",
      "Requirement already satisfied: numpy>=1.14.6 in ./lib/python3.8/site-packages (from scikit-learn->sklearn) (1.22.2)\n",
      "Requirement already satisfied: threadpoolctl>=2.0.0 in ./lib/python3.8/site-packages (from scikit-learn->sklearn) (3.1.0)\n",
      "Requirement already satisfied: scipy>=1.1.0 in ./lib/python3.8/site-packages (from scikit-learn->sklearn) (1.8.0)\n"
     ]
    }
   ],
   "source": [
    "!pip install statistics\n",
    "!pip install statsmodels\n",
    "!pip install sklearn\n"
   ]
  },
  {
   "cell_type": "code",
   "execution_count": 4,
   "id": "e218b6a8",
   "metadata": {},
   "outputs": [],
   "source": [
    "import pandas as pd\n",
    "import numpy as np"
   ]
  },
  {
   "cell_type": "code",
   "execution_count": 5,
   "id": "473908fd",
   "metadata": {},
   "outputs": [],
   "source": [
    "df = pd.read_csv('Brent Spot Price.csv')"
   ]
  },
  {
   "cell_type": "code",
   "execution_count": 6,
   "id": "42d9b2ae",
   "metadata": {},
   "outputs": [],
   "source": [
    "df=df.rename(columns={'Unnamed: 0': 'Month'},inplace=False)"
   ]
  },
  {
   "cell_type": "code",
   "execution_count": 7,
   "id": "c637eff8",
   "metadata": {},
   "outputs": [],
   "source": [
    "df.index=df.Month\n",
    "df.drop(df.columns[0],axis=1,inplace=True)"
   ]
  },
  {
   "cell_type": "code",
   "execution_count": 8,
   "id": "f31b481a",
   "metadata": {},
   "outputs": [],
   "source": [
    "df=df.rename(columns={'Brent crude oil spot price, Monthly (dollars per barrel)': 'Price'},inplace=False)"
   ]
  },
  {
   "cell_type": "code",
   "execution_count": 9,
   "id": "07371663",
   "metadata": {},
   "outputs": [
    {
     "data": {
      "text/html": [
       "<div>\n",
       "<style scoped>\n",
       "    .dataframe tbody tr th:only-of-type {\n",
       "        vertical-align: middle;\n",
       "    }\n",
       "\n",
       "    .dataframe tbody tr th {\n",
       "        vertical-align: top;\n",
       "    }\n",
       "\n",
       "    .dataframe thead th {\n",
       "        text-align: right;\n",
       "    }\n",
       "</style>\n",
       "<table border=\"1\" class=\"dataframe\">\n",
       "  <thead>\n",
       "    <tr style=\"text-align: right;\">\n",
       "      <th></th>\n",
       "      <th>Price</th>\n",
       "    </tr>\n",
       "    <tr>\n",
       "      <th>Month</th>\n",
       "      <th></th>\n",
       "    </tr>\n",
       "  </thead>\n",
       "  <tbody>\n",
       "    <tr>\n",
       "      <th>1990 01</th>\n",
       "      <td>21.251</td>\n",
       "    </tr>\n",
       "    <tr>\n",
       "      <th>1990 02</th>\n",
       "      <td>19.813</td>\n",
       "    </tr>\n",
       "    <tr>\n",
       "      <th>1990 03</th>\n",
       "      <td>18.387</td>\n",
       "    </tr>\n",
       "    <tr>\n",
       "      <th>1990 04</th>\n",
       "      <td>16.612</td>\n",
       "    </tr>\n",
       "    <tr>\n",
       "      <th>1990 05</th>\n",
       "      <td>16.352</td>\n",
       "    </tr>\n",
       "  </tbody>\n",
       "</table>\n",
       "</div>"
      ],
      "text/plain": [
       "           Price\n",
       "Month           \n",
       "1990 01   21.251\n",
       "1990 02   19.813\n",
       "1990 03   18.387\n",
       "1990 04   16.612\n",
       "1990 05   16.352"
      ]
     },
     "execution_count": 9,
     "metadata": {},
     "output_type": "execute_result"
    }
   ],
   "source": [
    "df.head()"
   ]
  },
  {
   "cell_type": "code",
   "execution_count": 10,
   "id": "f4930f55",
   "metadata": {},
   "outputs": [
    {
     "data": {
      "text/plain": [
       "<AxesSubplot:xlabel='Month'>"
      ]
     },
     "execution_count": 10,
     "metadata": {},
     "output_type": "execute_result"
    },
    {
     "data": {
      "image/png": "[encoded data removed]",
      "text/plain": [
       "<Figure size 432x288 with 1 Axes>"
      ]
     },
     "metadata": {
      "needs_background": "light"
     },
     "output_type": "display_data"
    }
   ],
   "source": [
    "\n",
    "df.plot()"
   ]
  },
  {
   "cell_type": "code",
   "execution_count": 11,
   "id": "f4cbb2d6",
   "metadata": {},
   "outputs": [
    {
     "data": {
      "text/plain": [
       "count    396.000000\n",
       "mean      49.661245\n",
       "std       31.566252\n",
       "min        9.824000\n",
       "25%       20.254750\n",
       "50%       44.737000\n",
       "75%       67.236500\n",
       "max      132.718000\n",
       "Name: Price, dtype: float64"
      ]
     },
     "execution_count": 11,
     "metadata": {},
     "output_type": "execute_result"
    }
   ],
   "source": [
    "df.Price.describe()\n"
   ]
  },
  {
   "cell_type": "code",
   "execution_count": 12,
   "id": "17b05f82",
   "metadata": {},
   "outputs": [
    {
     "data": {
      "text/plain": [
       "19.64175663688779"
      ]
     },
     "execution_count": 12,
     "metadata": {},
     "output_type": "execute_result"
    }
   ],
   "source": [
    "21.215-49.661/(31.566)"
   ]
  },
  {
   "cell_type": "markdown",
   "id": "a822b931",
   "metadata": {},
   "source": [
    "## Checking whether the given data set is stationary or not using \n",
    "### What is stationarity ?\n",
    "A time series whose statistical properties, such as mean, variance, etc., remain constant over time, are called a stationary time series.<br>\n",
    "In practical most of he timeseries will not be stationary , in order to find whether a given series is statioary or not we can use two test :<br>\n",
    "* ADF Test (Augumented Dickey Fuller Test <br>\n",
    "* KPSS Test(Kwiatkowski-Phillips-Schmidt-Shin test)  <br>\n",
    "\n",
    "### ADFuller test\n",
    "ADF Augumented Dickey Fuller test is a common statistical test used to test whether a given timeseries is stationary or not.<br>\n",
    "#### Unit Root  \n",
    "ADF test belong to the category of Unit Root Test which is the proper method for testing stationarity of series.Unit root is a characteristics of time series which makes it non staionary. <br>\n",
    "\n",
    "#### Dickey Fuller Test \n",
    "Before going into ADF test, let’s first understand what is the Dickey-Fuller test. A Dickey-Fuller test is a unit root test that tests the mull hypothesis that α=1 in the following model equation. alpha is the coefficient of the first lag on Y. Null Hypothesis (H0): alpha=1 <br>\n",
    "**Y <sup>t</sup>= alpha  Y <sub>t-1</sub> + E** <bR>\n",
    "    Where  ,<br>\n",
    "    alpha is the coefficeint that defines the unit root <br>\n",
    "    Y<sub>t</sub> is the variable of interest at time t <br>\n",
    "    E is the error <br>\n",
    "<br>\n",
    "    For Regression <br>\n",
    "    **delta Y = (alpaha -1) Y<sub>t-1</sub>+ E** <br>\n",
    "    \n",
    "  Where delta is the diffferne in the operator\n",
    "    \n",
    "#### ADF Test\n",
    "    * The augmented dickey- fuller test is an extension of the dickey-fuller test, which removes autocorrelation from the series and then tests similar to the procedure of the dickey-fuller test. <br>\n",
    "    * The augmented dickey fuller test works on the statistic, which gives a negative number and rejection of the hypothesis depends on that negative number; the more negative magnitude of the number represents the confidence of presence of unit root at some level in the time series.<br>\n",
    "    * If Test statistic < Critical Value and p-value < 0.05 – Reject Null Hypothesis(HO) i.e., time series does not have a unit root, meaning it is stationary. It does not have a time-dependent structure.<br>\n",
    "    \n",
    "####  KPSS Test(Kwiatkowski-Phillips-Schmidt-Shin test)\n",
    "   * KPSS test is a statistical test to check for stationarity of a series around a deterministic trend. Like ADF test, the KPSS test is also commonly used to analyse the stationarity of a series. However, it has couple of key differences compared to the ADF test in function and in practical usage.<br>\n",
    "   *  A common misconception, however, is that it can be used interchangeably with the ADF test. This can lead to misinterpretations about the stationarity, which can easily go undetected causing more problems down the line<br>\n",
    "   * A key difference from ADF test is the null hypothesis of the KPSS test is that the series is stationary. So practically, the interpretaion of p-value is just the opposite to each other. That is, if p-value is less than signif level (say 0.05), then the series is non-stationary. Whereas in ADF test, it would mean the tested series is stationary. <br>\n",
    "  *A major difference between KPSS and ADF tests is the capability of the KPSS test to check for stationarity in the ‘presence of a deterministic trend’.  But what is a ‘deterministic trend’? The word ‘deterministic’ implies the slope of the trend in the series does not change permanently. That is, even if the series goes through a shock, it tends to regain its original path.<br>\n",
    "  * overall  if a series is stationary according to the KPSS test by setting regression='ct' and is not stationary according to the ADF test, it means the series is stationary around a deterministic trend and so is fairly easy to model this series and produce fairly accurate forecasts. "
   ]
  },
  {
   "cell_type": "code",
   "execution_count": 104,
   "id": "ae9c468f",
   "metadata": {
    "scrolled": false
   },
   "outputs": [
    {
     "name": "stdout",
     "output_type": "stream",
     "text": [
      "Result of ADFuller Test :\n",
      "Test Statistics   -2.366208\n",
      "p-value            0.151502\n",
      "Lag used           1.000000\n",
      "dtype: float64\n"
     ]
    }
   ],
   "source": [
    "from statsmodels.tsa.stattools import adfuller\n",
    "def adfuller_test(timeseries):\n",
    "    print('Result of ADFuller Test :')\n",
    "    dftest= adfuller(timeseries )\n",
    "    dfoutput=pd.Series(dftest[0:3],index=['Test Statistics' , 'p-value' , 'Lag used '])\n",
    "    print(dfoutput)\n",
    "adfuller_test(df['Price'])"
   ]
  },
  {
   "cell_type": "code",
   "execution_count": 23,
   "id": "131d673a",
   "metadata": {},
   "outputs": [],
   "source": [
    "from statsmodels.tsa.stattools import kpss"
   ]
  },
  {
   "cell_type": "code",
   "execution_count": 26,
   "id": "2e5fda9e",
   "metadata": {},
   "outputs": [
    {
     "name": "stdout",
     "output_type": "stream",
     "text": [
      "Test Statistics    1.941507\n",
      "p-value            0.010000\n",
      "dtype: float64\n"
     ]
    },
    {
     "name": "stderr",
     "output_type": "stream",
     "text": [
      "/home/local/ZOHOCORP/bharath-12053/Desktop/TSA/jupyterenv/lib/python3.8/site-packages/statsmodels/tsa/stattools.py:2018: InterpolationWarning: The test statistic is outside of the range of p-values available in the\n",
      "look-up table. The actual p-value is smaller than the p-value returned.\n",
      "\n",
      "  warnings.warn(\n"
     ]
    }
   ],
   "source": [
    "\n",
    "dftest= kpss(df['Price'] )\n",
    "dfoutput=pd.Series(dftest[0:2],index=['Test Statistics' , 'p-value' ])\n",
    "print(dfoutput)\n"
   ]
  },
  {
   "cell_type": "markdown",
   "id": "f6f81c3b",
   "metadata": {},
   "source": [
    "In the above the result the p-value is above 0.05 for adf test and less than  0.05 for kpss test so the above data is non stationary we have to convert it to stationary inorder to forecast values"
   ]
  },
  {
   "cell_type": "markdown",
   "id": "20e4951f",
   "metadata": {},
   "source": [
    "## Making a time series stationary"
   ]
  },
  {
   "cell_type": "markdown",
   "id": "a847e6f9",
   "metadata": {},
   "source": [
    "### Differencing\n",
    "In this method we compute the differnce of consecutive terms in the series.Differencing is performed to get rid of varying mean. Mathematically differencing can be written as :\n",
    "\n",
    "***yt‘ = yt – y(t-1)***\n",
    "\n",
    "Where yt is the value at time t."
   ]
  },
  {
   "cell_type": "code",
   "execution_count": 27,
   "id": "991974ed",
   "metadata": {},
   "outputs": [
    {
     "data": {
      "text/plain": [
       "<AxesSubplot:xlabel='Month'>"
      ]
     },
     "execution_count": 27,
     "metadata": {},
     "output_type": "execute_result"
    },
    {
     "data": {
      "image/png": "[encoded data removed]",
      "text/plain": [
       "<Figure size 432x288 with 1 Axes>"
      ]
     },
     "metadata": {
      "needs_background": "light"
     },
     "output_type": "display_data"
    }
   ],
   "source": [
    "df['diff_1']=df['Price']- df['Price'].shift(1)\n",
    "df['diff_1'].dropna().plot()"
   ]
  },
  {
   "cell_type": "code",
   "execution_count": 28,
   "id": "e91dc993",
   "metadata": {},
   "outputs": [],
   "source": [
    "dum_data= df.dropna()"
   ]
  },
  {
   "cell_type": "code",
   "execution_count": 29,
   "id": "98e827b6",
   "metadata": {},
   "outputs": [
    {
     "name": "stdout",
     "output_type": "stream",
     "text": [
      "Result of ADFuller Test :\n",
      "Test Statistics      -1.328738e+01\n",
      "p-value               7.480882e-25\n",
      "Lag used              0.000000e+00\n",
      " No of Observatons    3.940000e+02\n",
      "dtype: float64\n"
     ]
    }
   ],
   "source": [
    "adfuller_test(dum_data['diff_1'])"
   ]
  },
  {
   "cell_type": "markdown",
   "id": "9d4ccba1",
   "metadata": {},
   "source": [
    "### Seasonal difference \n",
    "In seasonal difference instead of calculating the differcne between consecutive values, we calculate the difference between an observation and a previous observation from the same season. For example observations of monday alone \n",
    "\n",
    "***yt‘ = yt – y(t-n)***\n"
   ]
  },
  {
   "cell_type": "code",
   "execution_count": 30,
   "id": "c2d66fb8",
   "metadata": {},
   "outputs": [],
   "source": [
    "df['diff_12']= df['Price']-df['Price'].shift(12)"
   ]
  },
  {
   "cell_type": "code",
   "execution_count": 31,
   "id": "2cb6937a",
   "metadata": {},
   "outputs": [
    {
     "name": "stdout",
     "output_type": "stream",
     "text": [
      "Result of ADFuller Test :\n",
      "Test Statistics        -4.224748\n",
      "p-value                 0.000598\n",
      "Lag used               15.000000\n",
      " No of Observatons    368.000000\n",
      "dtype: float64\n"
     ]
    }
   ],
   "source": [
    "adfuller_test(df['diff_12'].dropna())"
   ]
  },
  {
   "cell_type": "code",
   "execution_count": 32,
   "id": "fc27ae95",
   "metadata": {},
   "outputs": [
    {
     "data": {
      "text/plain": [
       "<AxesSubplot:xlabel='Month'>"
      ]
     },
     "execution_count": 32,
     "metadata": {},
     "output_type": "execute_result"
    },
    {
     "data": {
      "image/png": "[encoded data removed]",
      "text/plain": [
       "<Figure size 432x288 with 1 Axes>"
      ]
     },
     "metadata": {
      "needs_background": "light"
     },
     "output_type": "display_data"
    }
   ],
   "source": [
    "df['diff_12'].plot()"
   ]
  },
  {
   "cell_type": "markdown",
   "id": "4d267b72",
   "metadata": {},
   "source": [
    "### Log Transformation\n",
    "Transformation used to stabilize the non constant variance of a series . Let's do log and diferncing on our data set."
   ]
  },
  {
   "cell_type": "code",
   "execution_count": 33,
   "id": "80d25479",
   "metadata": {},
   "outputs": [
    {
     "data": {
      "text/plain": [
       "<AxesSubplot:xlabel='Month'>"
      ]
     },
     "execution_count": 33,
     "metadata": {},
     "output_type": "execute_result"
    },
    {
     "data": {
      "image/png": "[encoded data removed]",
      "text/plain": [
       "<Figure size 432x288 with 1 Axes>"
      ]
     },
     "metadata": {
      "needs_background": "light"
     },
     "output_type": "display_data"
    }
   ],
   "source": [
    "df['Log']=np.log(df['Price'])\n",
    "df['log_diff']=df['Log']-df['Log'].shift(1)\n",
    "df['log_diff'].dropna().plot()"
   ]
  },
  {
   "cell_type": "code",
   "execution_count": 34,
   "id": "d4deafe7",
   "metadata": {},
   "outputs": [
    {
     "name": "stdout",
     "output_type": "stream",
     "text": [
      "Result of ADFuller Test :\n",
      "Test Statistics      -1.354491e+01\n",
      "p-value               2.472268e-25\n",
      "Lag used              1.000000e+00\n",
      " No of Observatons    3.930000e+02\n",
      "dtype: float64\n"
     ]
    }
   ],
   "source": [
    "adfuller_test(df['log_diff'].dropna())"
   ]
  },
  {
   "cell_type": "markdown",
   "id": "39e9ce6e",
   "metadata": {},
   "source": [
    "# Models for forecasting"
   ]
  },
  {
   "cell_type": "markdown",
   "id": "febe1c9d",
   "metadata": {},
   "source": [
    "## Naive / Persistance Model\n",
    "In Naive we can assume that the last period is the forecast value of this time period.This model is very important because incase if our other models cant able to give Mean Square Error less tham this model the we can assume that the datas in this model is not a proper data . That is the given data is random walk\n"
   ]
  },
  {
   "cell_type": "code",
   "execution_count": 35,
   "id": "37b99462",
   "metadata": {},
   "outputs": [
    {
     "data": {
      "text/plain": [
       "79.2"
      ]
     },
     "execution_count": 35,
     "metadata": {},
     "output_type": "execute_result"
    }
   ],
   "source": [
    "    #    df.index.size-\n",
    "    df.index.size *0.2"
   ]
  },
  {
   "cell_type": "code",
   "execution_count": 36,
   "id": "717dcc11",
   "metadata": {
    "scrolled": true
   },
   "outputs": [
    {
     "data": {
      "text/html": [
       "<div>\n",
       "<style scoped>\n",
       "    .dataframe tbody tr th:only-of-type {\n",
       "        vertical-align: middle;\n",
       "    }\n",
       "\n",
       "    .dataframe tbody tr th {\n",
       "        vertical-align: top;\n",
       "    }\n",
       "\n",
       "    .dataframe thead th {\n",
       "        text-align: right;\n",
       "    }\n",
       "</style>\n",
       "<table border=\"1\" class=\"dataframe\">\n",
       "  <thead>\n",
       "    <tr style=\"text-align: right;\">\n",
       "      <th></th>\n",
       "      <th>Price</th>\n",
       "      <th>diff_1</th>\n",
       "      <th>diff_12</th>\n",
       "      <th>Log</th>\n",
       "      <th>log_diff</th>\n",
       "    </tr>\n",
       "    <tr>\n",
       "      <th>Month</th>\n",
       "      <th></th>\n",
       "      <th></th>\n",
       "      <th></th>\n",
       "      <th></th>\n",
       "      <th></th>\n",
       "    </tr>\n",
       "  </thead>\n",
       "  <tbody>\n",
       "    <tr>\n",
       "      <th>1990 01</th>\n",
       "      <td>21.251</td>\n",
       "      <td>NaN</td>\n",
       "      <td>NaN</td>\n",
       "      <td>3.056404</td>\n",
       "      <td>NaN</td>\n",
       "    </tr>\n",
       "    <tr>\n",
       "      <th>1990 02</th>\n",
       "      <td>19.813</td>\n",
       "      <td>-1.438</td>\n",
       "      <td>NaN</td>\n",
       "      <td>2.986338</td>\n",
       "      <td>-0.070066</td>\n",
       "    </tr>\n",
       "    <tr>\n",
       "      <th>1990 03</th>\n",
       "      <td>18.387</td>\n",
       "      <td>-1.426</td>\n",
       "      <td>NaN</td>\n",
       "      <td>2.911644</td>\n",
       "      <td>-0.074694</td>\n",
       "    </tr>\n",
       "    <tr>\n",
       "      <th>1990 04</th>\n",
       "      <td>16.612</td>\n",
       "      <td>-1.775</td>\n",
       "      <td>NaN</td>\n",
       "      <td>2.810125</td>\n",
       "      <td>-0.101519</td>\n",
       "    </tr>\n",
       "    <tr>\n",
       "      <th>1990 05</th>\n",
       "      <td>16.352</td>\n",
       "      <td>-0.260</td>\n",
       "      <td>NaN</td>\n",
       "      <td>2.794350</td>\n",
       "      <td>-0.015775</td>\n",
       "    </tr>\n",
       "  </tbody>\n",
       "</table>\n",
       "</div>"
      ],
      "text/plain": [
       "           Price  diff_1  diff_12       Log  log_diff\n",
       "Month                                                \n",
       "1990 01   21.251     NaN      NaN  3.056404       NaN\n",
       "1990 02   19.813  -1.438      NaN  2.986338 -0.070066\n",
       "1990 03   18.387  -1.426      NaN  2.911644 -0.074694\n",
       "1990 04   16.612  -1.775      NaN  2.810125 -0.101519\n",
       "1990 05   16.352  -0.260      NaN  2.794350 -0.015775"
      ]
     },
     "execution_count": 36,
     "metadata": {},
     "output_type": "execute_result"
    }
   ],
   "source": [
    "df.head()"
   ]
  },
  {
   "cell_type": "code",
   "execution_count": 37,
   "id": "9dd03ce6",
   "metadata": {},
   "outputs": [
    {
     "data": {
      "text/html": [
       "<div>\n",
       "<style scoped>\n",
       "    .dataframe tbody tr th:only-of-type {\n",
       "        vertical-align: middle;\n",
       "    }\n",
       "\n",
       "    .dataframe tbody tr th {\n",
       "        vertical-align: top;\n",
       "    }\n",
       "\n",
       "    .dataframe thead th {\n",
       "        text-align: right;\n",
       "    }\n",
       "</style>\n",
       "<table border=\"1\" class=\"dataframe\">\n",
       "  <thead>\n",
       "    <tr style=\"text-align: right;\">\n",
       "      <th></th>\n",
       "      <th>Price</th>\n",
       "      <th>diff_1</th>\n",
       "      <th>Log</th>\n",
       "      <th>log_diff</th>\n",
       "      <th>Price_lag</th>\n",
       "    </tr>\n",
       "    <tr>\n",
       "      <th>Month</th>\n",
       "      <th></th>\n",
       "      <th></th>\n",
       "      <th></th>\n",
       "      <th></th>\n",
       "      <th></th>\n",
       "    </tr>\n",
       "  </thead>\n",
       "  <tbody>\n",
       "    <tr>\n",
       "      <th>1990 01</th>\n",
       "      <td>21.251</td>\n",
       "      <td>NaN</td>\n",
       "      <td>3.056404</td>\n",
       "      <td>NaN</td>\n",
       "      <td>NaN</td>\n",
       "    </tr>\n",
       "    <tr>\n",
       "      <th>1990 02</th>\n",
       "      <td>19.813</td>\n",
       "      <td>-1.438</td>\n",
       "      <td>2.986338</td>\n",
       "      <td>-0.070066</td>\n",
       "      <td>21.251</td>\n",
       "    </tr>\n",
       "    <tr>\n",
       "      <th>1990 03</th>\n",
       "      <td>18.387</td>\n",
       "      <td>-1.426</td>\n",
       "      <td>2.911644</td>\n",
       "      <td>-0.074694</td>\n",
       "      <td>19.813</td>\n",
       "    </tr>\n",
       "    <tr>\n",
       "      <th>1990 04</th>\n",
       "      <td>16.612</td>\n",
       "      <td>-1.775</td>\n",
       "      <td>2.810125</td>\n",
       "      <td>-0.101519</td>\n",
       "      <td>18.387</td>\n",
       "    </tr>\n",
       "    <tr>\n",
       "      <th>1990 05</th>\n",
       "      <td>16.352</td>\n",
       "      <td>-0.260</td>\n",
       "      <td>2.794350</td>\n",
       "      <td>-0.015775</td>\n",
       "      <td>16.612</td>\n",
       "    </tr>\n",
       "  </tbody>\n",
       "</table>\n",
       "</div>"
      ],
      "text/plain": [
       "           Price  diff_1       Log  log_diff  Price_lag\n",
       "Month                                                  \n",
       "1990 01   21.251     NaN  3.056404       NaN        NaN\n",
       "1990 02   19.813  -1.438  2.986338 -0.070066     21.251\n",
       "1990 03   18.387  -1.426  2.911644 -0.074694     19.813\n",
       "1990 04   16.612  -1.775  2.810125 -0.101519     18.387\n",
       "1990 05   16.352  -0.260  2.794350 -0.015775     16.612"
      ]
     },
     "execution_count": 37,
     "metadata": {},
     "output_type": "execute_result"
    }
   ],
   "source": [
    "df['Price_lag']=df['Price'].shift(1)\n",
    "df.drop(df.columns[2], axis=1 , inplace=True)\n",
    "df.head()"
   ]
  },
  {
   "cell_type": "code",
   "execution_count": 38,
   "id": "176d6a9f",
   "metadata": {},
   "outputs": [],
   "source": [
    "train ,test = df[1:df.shape[0]-80],df[df.shape[0]-80:]"
   ]
  },
  {
   "cell_type": "code",
   "execution_count": 39,
   "id": "36195632",
   "metadata": {},
   "outputs": [
    {
     "data": {
      "text/html": [
       "<div>\n",
       "<style scoped>\n",
       "    .dataframe tbody tr th:only-of-type {\n",
       "        vertical-align: middle;\n",
       "    }\n",
       "\n",
       "    .dataframe tbody tr th {\n",
       "        vertical-align: top;\n",
       "    }\n",
       "\n",
       "    .dataframe thead th {\n",
       "        text-align: right;\n",
       "    }\n",
       "</style>\n",
       "<table border=\"1\" class=\"dataframe\">\n",
       "  <thead>\n",
       "    <tr style=\"text-align: right;\">\n",
       "      <th></th>\n",
       "      <th>Price</th>\n",
       "      <th>diff_1</th>\n",
       "      <th>Log</th>\n",
       "      <th>log_diff</th>\n",
       "      <th>Price_lag</th>\n",
       "    </tr>\n",
       "    <tr>\n",
       "      <th>Month</th>\n",
       "      <th></th>\n",
       "      <th></th>\n",
       "      <th></th>\n",
       "      <th></th>\n",
       "      <th></th>\n",
       "    </tr>\n",
       "  </thead>\n",
       "  <tbody>\n",
       "    <tr>\n",
       "      <th>2016 05</th>\n",
       "      <td>46.742</td>\n",
       "      <td>5.159</td>\n",
       "      <td>3.844643</td>\n",
       "      <td>0.116952</td>\n",
       "      <td>41.583</td>\n",
       "    </tr>\n",
       "    <tr>\n",
       "      <th>2016 06</th>\n",
       "      <td>48.247</td>\n",
       "      <td>1.505</td>\n",
       "      <td>3.876334</td>\n",
       "      <td>0.031691</td>\n",
       "      <td>46.742</td>\n",
       "    </tr>\n",
       "    <tr>\n",
       "      <th>2016 07</th>\n",
       "      <td>44.952</td>\n",
       "      <td>-3.295</td>\n",
       "      <td>3.805595</td>\n",
       "      <td>-0.070738</td>\n",
       "      <td>48.247</td>\n",
       "    </tr>\n",
       "    <tr>\n",
       "      <th>2016 08</th>\n",
       "      <td>45.843</td>\n",
       "      <td>0.891</td>\n",
       "      <td>3.825223</td>\n",
       "      <td>0.019627</td>\n",
       "      <td>44.952</td>\n",
       "    </tr>\n",
       "    <tr>\n",
       "      <th>2016 09</th>\n",
       "      <td>46.568</td>\n",
       "      <td>0.725</td>\n",
       "      <td>3.840914</td>\n",
       "      <td>0.015691</td>\n",
       "      <td>45.843</td>\n",
       "    </tr>\n",
       "    <tr>\n",
       "      <th>2016 10</th>\n",
       "      <td>49.522</td>\n",
       "      <td>2.954</td>\n",
       "      <td>3.902417</td>\n",
       "      <td>0.061503</td>\n",
       "      <td>46.568</td>\n",
       "    </tr>\n",
       "    <tr>\n",
       "      <th>2016 11</th>\n",
       "      <td>44.734</td>\n",
       "      <td>-4.788</td>\n",
       "      <td>3.800734</td>\n",
       "      <td>-0.101683</td>\n",
       "      <td>49.522</td>\n",
       "    </tr>\n",
       "    <tr>\n",
       "      <th>2016 12</th>\n",
       "      <td>53.289</td>\n",
       "      <td>8.555</td>\n",
       "      <td>3.975730</td>\n",
       "      <td>0.174996</td>\n",
       "      <td>44.734</td>\n",
       "    </tr>\n",
       "    <tr>\n",
       "      <th>2017 01</th>\n",
       "      <td>54.577</td>\n",
       "      <td>1.288</td>\n",
       "      <td>3.999613</td>\n",
       "      <td>0.023883</td>\n",
       "      <td>53.289</td>\n",
       "    </tr>\n",
       "    <tr>\n",
       "      <th>2017 02</th>\n",
       "      <td>54.870</td>\n",
       "      <td>0.293</td>\n",
       "      <td>4.004967</td>\n",
       "      <td>0.005354</td>\n",
       "      <td>54.577</td>\n",
       "    </tr>\n",
       "  </tbody>\n",
       "</table>\n",
       "</div>"
      ],
      "text/plain": [
       "           Price  diff_1       Log  log_diff  Price_lag\n",
       "Month                                                  \n",
       "2016 05   46.742   5.159  3.844643  0.116952     41.583\n",
       "2016 06   48.247   1.505  3.876334  0.031691     46.742\n",
       "2016 07   44.952  -3.295  3.805595 -0.070738     48.247\n",
       "2016 08   45.843   0.891  3.825223  0.019627     44.952\n",
       "2016 09   46.568   0.725  3.840914  0.015691     45.843\n",
       "2016 10   49.522   2.954  3.902417  0.061503     46.568\n",
       "2016 11   44.734  -4.788  3.800734 -0.101683     49.522\n",
       "2016 12   53.289   8.555  3.975730  0.174996     44.734\n",
       "2017 01   54.577   1.288  3.999613  0.023883     53.289\n",
       "2017 02   54.870   0.293  4.004967  0.005354     54.577"
      ]
     },
     "execution_count": 39,
     "metadata": {},
     "output_type": "execute_result"
    }
   ],
   "source": [
    "test.head(10)"
   ]
  },
  {
   "cell_type": "code",
   "execution_count": 40,
   "id": "75055ea4",
   "metadata": {},
   "outputs": [],
   "source": [
    "train_X , train_Y = train['Price_lag'] , train['Price']\n",
    "test_X ,test_Y = test['Price_lag'] , test['Price']"
   ]
  },
  {
   "cell_type": "code",
   "execution_count": 41,
   "id": "f9956d71",
   "metadata": {},
   "outputs": [
    {
     "data": {
      "text/plain": [
       "Month\n",
       "2016 05     46.742\n",
       "2016 06     48.247\n",
       "2016 07     44.952\n",
       "2016 08     45.843\n",
       "2016 09     46.568\n",
       "Name: Price, dtype: float64"
      ]
     },
     "execution_count": 41,
     "metadata": {},
     "output_type": "execute_result"
    }
   ],
   "source": [
    "prediction = test_X.copy()\n",
    "test_Y.head()\n"
   ]
  },
  {
   "cell_type": "code",
   "execution_count": 42,
   "id": "064d2bdd",
   "metadata": {},
   "outputs": [
    {
     "data": {
      "text/plain": [
       "27.007918212499998"
      ]
     },
     "execution_count": 42,
     "metadata": {},
     "output_type": "execute_result"
    }
   ],
   "source": [
    "from sklearn.metrics import mean_squared_error\n",
    "mse= mean_squared_error(test_Y , prediction)\n",
    "mse"
   ]
  },
  {
   "cell_type": "code",
   "execution_count": 43,
   "id": "8fa82dd2",
   "metadata": {},
   "outputs": [
    {
     "data": {
      "text/plain": [
       "[<matplotlib.lines.Line2D at 0x7fb8209c77f0>]"
      ]
     },
     "execution_count": 43,
     "metadata": {},
     "output_type": "execute_result"
    },
    {
     "data": {
      "image/png": "[encoded data removed]",
      "text/plain": [
       "<Figure size 432x288 with 1 Axes>"
      ]
     },
     "metadata": {
      "needs_background": "light"
     },
     "output_type": "display_data"
    }
   ],
   "source": [
    "from matplotlib import pyplot\n",
    "pyplot.plot(test_Y)\n",
    "pyplot.plot(prediction, color=\"red\")"
   ]
  },
  {
   "cell_type": "markdown",
   "id": "a47e0cb5",
   "metadata": {},
   "source": [
    "## Auto Regression Model\n",
    "\n",
    "A regresssion model such as linear regression models an output value based on a linear combination of input values \n",
    "\t\n",
    "**y' = b0 + b1 * X1** </br>\n",
    "where **y'** is the prediction </br>\n",
    "      **b0,b1** are the coefficient fount by optimizing the model</br>\n",
    "      **X1** is an input value</br>\n",
    "This Technique can also be used in timeseries where input variables are taken as observations of previos time steps ,called lag variables.</br>\n",
    "\t\n",
    "**X(t+1) = b0 + b1*X(t-1) + b2*X(t-2)** </br>\n",
    "where **t** is the time period,</br>\n",
    "      **X** is the input valus</br>\n",
    "Since the regression model uses its own lagged value it is known as auto regression model."
   ]
  },
  {
   "cell_type": "code",
   "execution_count": 48,
   "id": "65116de0",
   "metadata": {},
   "outputs": [],
   "source": [
    "\n",
    "from statsmodels.tsa.ar_model import AutoReg"
   ]
  },
  {
   "cell_type": "code",
   "execution_count": 49,
   "id": "3c940383",
   "metadata": {},
   "outputs": [],
   "source": [
    "df_1 = pd.read_csv('Brent Spot Price.csv')\n",
    "df_1=df_1.rename(columns={'Brent crude oil spot price, Monthly (dollars per barrel)': 'Price'},inplace=False)\n",
    "train ,test = df_1.Price[1:df_1.shape[0]-80],df_1[df_1.shape[0]-80:]"
   ]
  },
  {
   "cell_type": "code",
   "execution_count": 50,
   "id": "0d4a2ae6",
   "metadata": {},
   "outputs": [
    {
     "ename": "NameError",
     "evalue": "name 'plot_pacf' is not defined",
     "output_type": "error",
     "traceback": [
      "\u001b[0;31m---------------------------------------------------------------------------\u001b[0m",
      "\u001b[0;31mNameError\u001b[0m                                 Traceback (most recent call last)",
      "Input \u001b[0;32mIn [50]\u001b[0m, in \u001b[0;36m<module>\u001b[0;34m\u001b[0m\n\u001b[0;32m----> 1\u001b[0m \u001b[43mplot_pacf\u001b[49m(train_Y )\n",
      "\u001b[0;31mNameError\u001b[0m: name 'plot_pacf' is not defined"
     ]
    }
   ],
   "source": [
    "plot_pacf(train_Y )\n"
   ]
  },
  {
   "cell_type": "code",
   "execution_count": 51,
   "id": "9174f6b1",
   "metadata": {},
   "outputs": [
    {
     "data": {
      "text/plain": [
       "Month\n",
       "1990 02     19.813\n",
       "1990 03     18.387\n",
       "1990 04     16.612\n",
       "1990 05     16.352\n",
       "1990 06     15.104\n",
       "Name: Price, dtype: float64"
      ]
     },
     "execution_count": 51,
     "metadata": {},
     "output_type": "execute_result"
    }
   ],
   "source": [
    "train_Y.head()"
   ]
  },
  {
   "cell_type": "code",
   "execution_count": 52,
   "id": "6671b721",
   "metadata": {},
   "outputs": [
    {
     "data": {
      "text/plain": [
       "(315,)"
      ]
     },
     "execution_count": 52,
     "metadata": {},
     "output_type": "execute_result"
    }
   ],
   "source": [
    "train.shape\n"
   ]
  },
  {
   "cell_type": "code",
   "execution_count": 53,
   "id": "8e85ab27",
   "metadata": {},
   "outputs": [
    {
     "name": "stderr",
     "output_type": "stream",
     "text": [
      "/home/local/ZOHOCORP/bharath-12053/Desktop/TSA/jupyterenv/lib/python3.8/site-packages/statsmodels/tsa/base/tsa_model.py:471: ValueWarning: No frequency information was provided, so inferred frequency MS will be used.\n",
      "  self._init_dates(dates, freq)\n"
     ]
    }
   ],
   "source": [
    "model=AutoReg(train_Y,6)\n",
    "model_fit = model.fit()"
   ]
  },
  {
   "cell_type": "code",
   "execution_count": 54,
   "id": "79e48644",
   "metadata": {},
   "outputs": [
    {
     "data": {
      "text/plain": [
       "const       0.661403\n",
       "Price.L1    1.376153\n",
       "Price.L2   -0.358298\n",
       "Price.L3   -0.057000\n",
       "Price.L4   -0.039876\n",
       "Price.L5    0.070437\n",
       "Price.L6   -0.004034\n",
       "dtype: float64"
      ]
     },
     "execution_count": 54,
     "metadata": {},
     "output_type": "execute_result"
    }
   ],
   "source": [
    "model_fit.params"
   ]
  },
  {
   "cell_type": "code",
   "execution_count": 55,
   "id": "7c29d999",
   "metadata": {},
   "outputs": [
    {
     "name": "stderr",
     "output_type": "stream",
     "text": [
      "/home/local/ZOHOCORP/bharath-12053/Desktop/TSA/jupyterenv/lib/python3.8/site-packages/statsmodels/tsa/deterministic.py:302: UserWarning: Only PeriodIndexes, DatetimeIndexes with a frequency set, RangesIndexes, and Index with a unit increment support extending. The index is set will contain the position relative to the data length.\n",
      "  fcast_index = self._extend_index(index, steps, forecast_index)\n"
     ]
    }
   ],
   "source": [
    "predictions = model_fit.predict(start = len(train_Y) , end= len(train_Y)+len(test_Y)-1)"
   ]
  },
  {
   "cell_type": "code",
   "execution_count": 56,
   "id": "0e8f22fc",
   "metadata": {},
   "outputs": [
    {
     "name": "stdout",
     "output_type": "stream",
     "text": [
      "2016-05-01    43.635215\n",
      "2016-06-01    44.358873\n",
      "2016-07-01    44.320660\n",
      "2016-08-01    44.175927\n",
      "2016-09-01    44.080628\n",
      "                ...    \n",
      "2022-08-01    50.238655\n",
      "2022-09-01    50.279851\n",
      "2022-10-01    50.320268\n",
      "2022-11-01    50.359921\n",
      "2022-12-01    50.398824\n",
      "Freq: MS, Length: 80, dtype: float64\n",
      "Month\n",
      "2016 05     46.742\n",
      "2016 06     48.247\n",
      "2016 07     44.952\n",
      "2016 08     45.843\n",
      "2016 09     46.568\n",
      "             ...  \n",
      "2022 08     60.000\n",
      "2022 09     60.000\n",
      "2022 10     61.000\n",
      "2022 11     61.000\n",
      "2022 12     61.000\n",
      "Name: Price, Length: 80, dtype: float64\n"
     ]
    }
   ],
   "source": [
    "print(predictions)\n",
    "\n",
    "print(test_Y)"
   ]
  },
  {
   "cell_type": "code",
   "execution_count": 57,
   "id": "70c9fbcb",
   "metadata": {},
   "outputs": [
    {
     "data": {
      "text/plain": [
       "[<matplotlib.lines.Line2D at 0x7fb8208004f0>]"
      ]
     },
     "execution_count": 57,
     "metadata": {},
     "output_type": "execute_result"
    },
    {
     "data": {
      "image/png": "[encoded data removed]",
      "text/plain": [
       "<Figure size 432x288 with 1 Axes>"
      ]
     },
     "metadata": {
      "needs_background": "light"
     },
     "output_type": "display_data"
    }
   ],
   "source": [
    "pyplot.plot(test_Y)"
   ]
  },
  {
   "cell_type": "code",
   "execution_count": 58,
   "id": "b636e5ad",
   "metadata": {},
   "outputs": [
    {
     "data": {
      "text/plain": [
       "43.63521547694577"
      ]
     },
     "execution_count": 58,
     "metadata": {},
     "output_type": "execute_result"
    }
   ],
   "source": [
    "predictions.iloc[0]"
   ]
  },
  {
   "cell_type": "code",
   "execution_count": 59,
   "id": "9bb11ad8",
   "metadata": {},
   "outputs": [
    {
     "data": {
      "text/plain": [
       "223.2690384134973"
      ]
     },
     "execution_count": 59,
     "metadata": {},
     "output_type": "execute_result"
    }
   ],
   "source": [
    "from sklearn.metrics import mean_squared_error\n",
    "mse= mean_squared_error(test_Y, predictions.dropna())\n",
    "mse"
   ]
  },
  {
   "cell_type": "code",
   "execution_count": 60,
   "id": "dabfc9fd",
   "metadata": {
    "scrolled": true
   },
   "outputs": [],
   "source": [
    "predictions=predictions.dropna()\n"
   ]
  },
  {
   "cell_type": "code",
   "execution_count": 61,
   "id": "065cf421",
   "metadata": {},
   "outputs": [],
   "source": [
    "    predictions.index= test_Y.index"
   ]
  },
  {
   "cell_type": "code",
   "execution_count": 62,
   "id": "5f3bc5c8",
   "metadata": {},
   "outputs": [
    {
     "data": {
      "text/plain": [
       "[<matplotlib.lines.Line2D at 0x7fb8207444f0>]"
      ]
     },
     "execution_count": 62,
     "metadata": {},
     "output_type": "execute_result"
    },
    {
     "data": {
      "image/png": "[encoded data removed]",
      "text/plain": [
       "<Figure size 432x288 with 1 Axes>"
      ]
     },
     "metadata": {
      "needs_background": "light"
     },
     "output_type": "display_data"
    }
   ],
   "source": [
    "pyplot.plot(test_Y)\n",
    "pyplot.plot(predictions, color=\"red\")"
   ]
  },
  {
   "cell_type": "markdown",
   "id": "4cf997fb",
   "metadata": {},
   "source": [
    "## Walk forward "
   ]
  },
  {
   "cell_type": "code",
   "execution_count": 63,
   "id": "e0900a9f",
   "metadata": {},
   "outputs": [
    {
     "data": {
      "text/plain": [
       "1     19.813\n",
       "2     18.387\n",
       "3     16.612\n",
       "4     16.352\n",
       "5     15.104\n",
       "6     17.169\n",
       "7     27.167\n",
       "8     34.899\n",
       "9     36.022\n",
       "10    33.067\n",
       "Name: Price, dtype: float64"
      ]
     },
     "execution_count": 63,
     "metadata": {},
     "output_type": "execute_result"
    }
   ],
   "source": [
    "train.head(10)"
   ]
  },
  {
   "cell_type": "code",
   "execution_count": 64,
   "id": "6e51b5ff",
   "metadata": {},
   "outputs": [
    {
     "name": "stderr",
     "output_type": "stream",
     "text": [
      "/home/local/ZOHOCORP/bharath-12053/Desktop/TSA/jupyterenv/lib/python3.8/site-packages/statsmodels/tsa/base/tsa_model.py:471: ValueWarning: No frequency information was provided, so inferred frequency MS will be used.\n",
      "  self._init_dates(dates, freq)\n",
      "/home/local/ZOHOCORP/bharath-12053/Desktop/TSA/jupyterenv/lib/python3.8/site-packages/statsmodels/tsa/deterministic.py:302: UserWarning: Only PeriodIndexes, DatetimeIndexes with a frequency set, RangesIndexes, and Index with a unit increment support extending. The index is set will contain the position relative to the data length.\n",
      "  fcast_index = self._extend_index(index, steps, forecast_index)\n"
     ]
    },
    {
     "name": "stdout",
     "output_type": "stream",
     "text": [
      "43.63521547694577\n",
      "48.66827960113526\n",
      "48.56003433475081\n",
      "43.45061363066613\n",
      "45.77638474434923\n",
      "46.953516699002236\n",
      "50.96978219403161\n",
      "42.98231636788791\n",
      "56.18603656800119\n",
      "55.36948326518913\n",
      "55.078517046800876\n",
      "49.87716369967285\n",
      "52.29735435759106\n",
      "49.75210583008222\n",
      "45.044252622444105\n",
      "49.21511407186768\n",
      "53.245375229305715\n",
      "58.09902291432496\n",
      "57.97670368908878\n",
      "64.26047199133089\n",
      "64.77369611480935\n",
      "70.42943849501806\n",
      "63.689327978709095\n",
      "65.59802956788162\n",
      "74.06885575859889\n",
      "78.91291901661283\n",
      "73.25731417495412\n",
      "73.44006390608995\n",
      "71.46520211867772\n",
      "80.9552746122206\n",
      "81.94465776585425\n",
      "58.54837637936633\n",
      "53.87393371086687\n",
      "60.32830691395557\n",
      "66.32681012877623\n",
      "67.15562509989873\n",
      "72.88572972350332\n",
      "70.96252640290848\n",
      "61.141336954085745\n",
      "63.44377311491591\n",
      "57.33836843527932\n",
      "64.35255585909293\n",
      "58.89606903109847\n",
      "64.29977719674677\n",
      "68.80291588066981\n",
      "62.26543656112361\n",
      "52.45653938821733\n",
      "23.029273194375318\n",
      "13.466904274479775\n",
      "35.80295804174366\n",
      "46.51330854169279\n",
      "44.03863941905979\n",
      "44.20458503950401\n",
      "38.9372101694355\n",
      "40.1009139543099\n",
      "44.04436957253968\n",
      "53.12453424075145\n",
      "56.26211694990358\n",
      "64.47367946703335\n",
      "65.72914637924713\n",
      "64.0486921599634\n",
      "65.79243411223094\n",
      "64.44407219171057\n",
      "63.51814349580139\n",
      "62.51767170077149\n",
      "60.26673594985288\n",
      "59.668889642344524\n",
      "60.10419587998497\n",
      "60.06965247600617\n",
      "62.718404152433806\n",
      "61.836040908947524\n",
      "61.784302625336444\n",
      "57.642605266191325\n",
      "59.05016667298748\n",
      "59.12447413214193\n",
      "60.47734363599958\n",
      "59.85339246561132\n",
      "59.86905931710574\n",
      "61.267758047592864\n",
      "60.91131873160372\n"
     ]
    }
   ],
   "source": [
    "data =train_Y\n",
    "predict_list=[]\n",
    "for t in test_Y:\n",
    "    model=AutoReg(data,6)\n",
    "    model_fit = model.fit()\n",
    "    y= model_fit.predict(start = len(data) , end = len(data)+len(test_Y))\n",
    "    print(y.values[0])\n",
    "    predict_list.append(y.values[0])\n",
    "    data=np.append(data, t)\n",
    "   # print(data)\n",
    "    data=pd.Series(data)\n",
    "   "
   ]
  },
  {
   "cell_type": "code",
   "execution_count": 65,
   "id": "a2671787",
   "metadata": {},
   "outputs": [
    {
     "data": {
      "text/plain": [
       "80"
      ]
     },
     "execution_count": 65,
     "metadata": {},
     "output_type": "execute_result"
    }
   ],
   "source": [
    "len(predict_list)"
   ]
  },
  {
   "cell_type": "code",
   "execution_count": 66,
   "id": "3f7e1f00",
   "metadata": {},
   "outputs": [
    {
     "data": {
      "text/plain": [
       "23.365525667629775"
      ]
     },
     "execution_count": 66,
     "metadata": {},
     "output_type": "execute_result"
    }
   ],
   "source": [
    "from sklearn.metrics import mean_squared_error\n",
    "mse= mean_squared_error(test_Y, predict_list)\n",
    "mse"
   ]
  },
  {
   "cell_type": "code",
   "execution_count": 67,
   "id": "c8df6598",
   "metadata": {},
   "outputs": [
    {
     "data": {
      "text/plain": [
       "[<matplotlib.lines.Line2D at 0x7fb820640310>]"
      ]
     },
     "execution_count": 67,
     "metadata": {},
     "output_type": "execute_result"
    },
    {
     "data": {
      "image/png": "[encoded data removed]",
      "text/plain": [
       "<Figure size 432x288 with 1 Axes>"
      ]
     },
     "metadata": {
      "needs_background": "light"
     },
     "output_type": "display_data"
    }
   ],
   "source": [
    "pyplot.plot(test_Y)\n",
    "pyplot.plot(predict_list, color=\"red\")"
   ]
  },
  {
   "cell_type": "markdown",
   "id": "0d185467",
   "metadata": {},
   "source": [
    "## Moving Average \n",
    "   * It very different from moving average smoothing method, in smoothing model we use windows size and make averages of the values. Whereas in Moving Average forecasting lets assume we have a time series and we use persistance and Auto regression model to forecast.\n",
    "   * While forecasting by above moethods we use lagged values of Y. The Actual value Y = Y' +Residual .where the residual is the difference of Y and Y'.The REsidual will sometimes follow a patter we can use that and forecast the residuals . After forecasting the residuals we can add the residual with the Y' to get the Actual values Y."
   ]
  },
  {
   "cell_type": "code",
   "execution_count": 68,
   "id": "30481db2",
   "metadata": {},
   "outputs": [],
   "source": [
    "ma_df =df.copy()\n",
    "ma_df.head()\n",
    "ma_df.index= pd.to_datetime(ma_df.index)"
   ]
  },
  {
   "cell_type": "code",
   "execution_count": 69,
   "id": "54efaaf5",
   "metadata": {},
   "outputs": [],
   "source": [
    "ma_df.drop(ma_df.columns[1:], axis=1, inplace=True)"
   ]
  },
  {
   "cell_type": "code",
   "execution_count": 70,
   "id": "ef04e828",
   "metadata": {},
   "outputs": [],
   "source": [
    "ma_df['p']=ma_df['Price'].shift(1)"
   ]
  },
  {
   "cell_type": "code",
   "execution_count": 71,
   "id": "9c271be8",
   "metadata": {},
   "outputs": [],
   "source": [
    "ma_df['Resid']=ma_df['Price']-ma_df['p']"
   ]
  },
  {
   "cell_type": "code",
   "execution_count": 72,
   "id": "b4eaca1e",
   "metadata": {},
   "outputs": [],
   "source": [
    "ma_df=ma_df.dropna()"
   ]
  },
  {
   "cell_type": "code",
   "execution_count": 73,
   "id": "6e6ef86d",
   "metadata": {},
   "outputs": [
    {
     "data": {
      "text/html": [
       "<div>\n",
       "<style scoped>\n",
       "    .dataframe tbody tr th:only-of-type {\n",
       "        vertical-align: middle;\n",
       "    }\n",
       "\n",
       "    .dataframe tbody tr th {\n",
       "        vertical-align: top;\n",
       "    }\n",
       "\n",
       "    .dataframe thead th {\n",
       "        text-align: right;\n",
       "    }\n",
       "</style>\n",
       "<table border=\"1\" class=\"dataframe\">\n",
       "  <thead>\n",
       "    <tr style=\"text-align: right;\">\n",
       "      <th></th>\n",
       "      <th>Price</th>\n",
       "      <th>p</th>\n",
       "      <th>Resid</th>\n",
       "    </tr>\n",
       "    <tr>\n",
       "      <th>Month</th>\n",
       "      <th></th>\n",
       "      <th></th>\n",
       "      <th></th>\n",
       "    </tr>\n",
       "  </thead>\n",
       "  <tbody>\n",
       "    <tr>\n",
       "      <th>1990-02-01</th>\n",
       "      <td>19.813</td>\n",
       "      <td>21.251</td>\n",
       "      <td>-1.438</td>\n",
       "    </tr>\n",
       "    <tr>\n",
       "      <th>1990-03-01</th>\n",
       "      <td>18.387</td>\n",
       "      <td>19.813</td>\n",
       "      <td>-1.426</td>\n",
       "    </tr>\n",
       "    <tr>\n",
       "      <th>1990-04-01</th>\n",
       "      <td>16.612</td>\n",
       "      <td>18.387</td>\n",
       "      <td>-1.775</td>\n",
       "    </tr>\n",
       "    <tr>\n",
       "      <th>1990-05-01</th>\n",
       "      <td>16.352</td>\n",
       "      <td>16.612</td>\n",
       "      <td>-0.260</td>\n",
       "    </tr>\n",
       "    <tr>\n",
       "      <th>1990-06-01</th>\n",
       "      <td>15.104</td>\n",
       "      <td>16.352</td>\n",
       "      <td>-1.248</td>\n",
       "    </tr>\n",
       "    <tr>\n",
       "      <th>...</th>\n",
       "      <td>...</td>\n",
       "      <td>...</td>\n",
       "      <td>...</td>\n",
       "    </tr>\n",
       "    <tr>\n",
       "      <th>2022-08-01</th>\n",
       "      <td>60.000</td>\n",
       "      <td>60.000</td>\n",
       "      <td>0.000</td>\n",
       "    </tr>\n",
       "    <tr>\n",
       "      <th>2022-09-01</th>\n",
       "      <td>60.000</td>\n",
       "      <td>60.000</td>\n",
       "      <td>0.000</td>\n",
       "    </tr>\n",
       "    <tr>\n",
       "      <th>2022-10-01</th>\n",
       "      <td>61.000</td>\n",
       "      <td>60.000</td>\n",
       "      <td>1.000</td>\n",
       "    </tr>\n",
       "    <tr>\n",
       "      <th>2022-11-01</th>\n",
       "      <td>61.000</td>\n",
       "      <td>61.000</td>\n",
       "      <td>0.000</td>\n",
       "    </tr>\n",
       "    <tr>\n",
       "      <th>2022-12-01</th>\n",
       "      <td>61.000</td>\n",
       "      <td>61.000</td>\n",
       "      <td>0.000</td>\n",
       "    </tr>\n",
       "  </tbody>\n",
       "</table>\n",
       "<p>395 rows × 3 columns</p>\n",
       "</div>"
      ],
      "text/plain": [
       "             Price       p  Resid\n",
       "Month                            \n",
       "1990-02-01  19.813  21.251 -1.438\n",
       "1990-03-01  18.387  19.813 -1.426\n",
       "1990-04-01  16.612  18.387 -1.775\n",
       "1990-05-01  16.352  16.612 -0.260\n",
       "1990-06-01  15.104  16.352 -1.248\n",
       "...            ...     ...    ...\n",
       "2022-08-01  60.000  60.000  0.000\n",
       "2022-09-01  60.000  60.000  0.000\n",
       "2022-10-01  61.000  60.000  1.000\n",
       "2022-11-01  61.000  61.000  0.000\n",
       "2022-12-01  61.000  61.000  0.000\n",
       "\n",
       "[395 rows x 3 columns]"
      ]
     },
     "execution_count": 73,
     "metadata": {},
     "output_type": "execute_result"
    }
   ],
   "source": [
    "ma_df\n"
   ]
  },
  {
   "cell_type": "code",
   "execution_count": 74,
   "id": "a9c44ba4",
   "metadata": {},
   "outputs": [],
   "source": [
    "train_ma ,test_ma =ma_df[0:ma_df.shape[0]-80] , ma_df[ma_df.shape[0]-80:]"
   ]
  },
  {
   "cell_type": "code",
   "execution_count": 75,
   "id": "91d72af1",
   "metadata": {},
   "outputs": [
    {
     "name": "stderr",
     "output_type": "stream",
     "text": [
      "/tmp/ipykernel_44107/3506367944.py:1: SettingWithCopyWarning: \n",
      "A value is trying to be set on a copy of a slice from a DataFrame\n",
      "\n",
      "See the caveats in the documentation: https://pandas.pydata.org/pandas-docs/stable/user_guide/indexing.html#returning-a-view-versus-a-copy\n",
      "  train_ma.drop(['Price','p'],axis=1,inplace=True)\n"
     ]
    }
   ],
   "source": [
    "train_ma.drop(['Price','p'],axis=1,inplace=True)"
   ]
  },
  {
   "cell_type": "code",
   "execution_count": 76,
   "id": "75fc7729",
   "metadata": {},
   "outputs": [
    {
     "name": "stderr",
     "output_type": "stream",
     "text": [
      "/tmp/ipykernel_44107/1113347028.py:1: SettingWithCopyWarning: \n",
      "A value is trying to be set on a copy of a slice from a DataFrame\n",
      "\n",
      "See the caveats in the documentation: https://pandas.pydata.org/pandas-docs/stable/user_guide/indexing.html#returning-a-view-versus-a-copy\n",
      "  test_ma.drop(['Price','p'],axis=1,inplace=True)\n"
     ]
    }
   ],
   "source": [
    "test_ma.drop(['Price','p'],axis=1,inplace=True)"
   ]
  },
  {
   "cell_type": "code",
   "execution_count": 77,
   "id": "bdfa8441",
   "metadata": {},
   "outputs": [
    {
     "data": {
      "text/html": [
       "<div>\n",
       "<style scoped>\n",
       "    .dataframe tbody tr th:only-of-type {\n",
       "        vertical-align: middle;\n",
       "    }\n",
       "\n",
       "    .dataframe tbody tr th {\n",
       "        vertical-align: top;\n",
       "    }\n",
       "\n",
       "    .dataframe thead th {\n",
       "        text-align: right;\n",
       "    }\n",
       "</style>\n",
       "<table border=\"1\" class=\"dataframe\">\n",
       "  <thead>\n",
       "    <tr style=\"text-align: right;\">\n",
       "      <th></th>\n",
       "      <th>Resid</th>\n",
       "    </tr>\n",
       "    <tr>\n",
       "      <th>Month</th>\n",
       "      <th></th>\n",
       "    </tr>\n",
       "  </thead>\n",
       "  <tbody>\n",
       "    <tr>\n",
       "      <th>2016-05-01</th>\n",
       "      <td>5.159</td>\n",
       "    </tr>\n",
       "    <tr>\n",
       "      <th>2016-06-01</th>\n",
       "      <td>1.505</td>\n",
       "    </tr>\n",
       "    <tr>\n",
       "      <th>2016-07-01</th>\n",
       "      <td>-3.295</td>\n",
       "    </tr>\n",
       "    <tr>\n",
       "      <th>2016-08-01</th>\n",
       "      <td>0.891</td>\n",
       "    </tr>\n",
       "    <tr>\n",
       "      <th>2016-09-01</th>\n",
       "      <td>0.725</td>\n",
       "    </tr>\n",
       "    <tr>\n",
       "      <th>...</th>\n",
       "      <td>...</td>\n",
       "    </tr>\n",
       "    <tr>\n",
       "      <th>2022-08-01</th>\n",
       "      <td>0.000</td>\n",
       "    </tr>\n",
       "    <tr>\n",
       "      <th>2022-09-01</th>\n",
       "      <td>0.000</td>\n",
       "    </tr>\n",
       "    <tr>\n",
       "      <th>2022-10-01</th>\n",
       "      <td>1.000</td>\n",
       "    </tr>\n",
       "    <tr>\n",
       "      <th>2022-11-01</th>\n",
       "      <td>0.000</td>\n",
       "    </tr>\n",
       "    <tr>\n",
       "      <th>2022-12-01</th>\n",
       "      <td>0.000</td>\n",
       "    </tr>\n",
       "  </tbody>\n",
       "</table>\n",
       "<p>80 rows × 1 columns</p>\n",
       "</div>"
      ],
      "text/plain": [
       "            Resid\n",
       "Month            \n",
       "2016-05-01  5.159\n",
       "2016-06-01  1.505\n",
       "2016-07-01 -3.295\n",
       "2016-08-01  0.891\n",
       "2016-09-01  0.725\n",
       "...           ...\n",
       "2022-08-01  0.000\n",
       "2022-09-01  0.000\n",
       "2022-10-01  1.000\n",
       "2022-11-01  0.000\n",
       "2022-12-01  0.000\n",
       "\n",
       "[80 rows x 1 columns]"
      ]
     },
     "execution_count": 77,
     "metadata": {},
     "output_type": "execute_result"
    }
   ],
   "source": [
    "test_ma"
   ]
  },
  {
   "cell_type": "code",
   "execution_count": 78,
   "id": "9beba31d",
   "metadata": {},
   "outputs": [],
   "source": [
    "\n",
    "from statsmodels.tsa.ar_model import AutoReg"
   ]
  },
  {
   "cell_type": "code",
   "execution_count": 79,
   "id": "62e8eb6a",
   "metadata": {},
   "outputs": [
    {
     "name": "stderr",
     "output_type": "stream",
     "text": [
      "/home/local/ZOHOCORP/bharath-12053/Desktop/TSA/jupyterenv/lib/python3.8/site-packages/statsmodels/tsa/base/tsa_model.py:471: ValueWarning: No frequency information was provided, so inferred frequency MS will be used.\n",
      "  self._init_dates(dates, freq)\n"
     ]
    }
   ],
   "source": [
    "model = AutoReg(train_ma ,12)\n",
    "model_fit_ma = model.fit()"
   ]
  },
  {
   "cell_type": "code",
   "execution_count": 80,
   "id": "df0d957a",
   "metadata": {},
   "outputs": [
    {
     "data": {
      "text/plain": [
       "[1, 2, 3, 4, 5, 6, 7, 8, 9, 10, 11, 12]"
      ]
     },
     "execution_count": 80,
     "metadata": {},
     "output_type": "execute_result"
    }
   ],
   "source": [
    "model_fit_ma.ar_lags"
   ]
  },
  {
   "cell_type": "code",
   "execution_count": 81,
   "id": "49a5dc37",
   "metadata": {},
   "outputs": [
    {
     "data": {
      "text/plain": [
       "const        0.052382\n",
       "Resid.L1     0.366819\n",
       "Resid.L2     0.034158\n",
       "Resid.L3    -0.039776\n",
       "Resid.L4    -0.054233\n",
       "Resid.L5     0.045616\n",
       "Resid.L6    -0.116514\n",
       "Resid.L7     0.021913\n",
       "Resid.L8    -0.043442\n",
       "Resid.L9    -0.124019\n",
       "Resid.L10    0.093258\n",
       "Resid.L11    0.090920\n",
       "Resid.L12   -0.029816\n",
       "dtype: float64"
      ]
     },
     "execution_count": 81,
     "metadata": {},
     "output_type": "execute_result"
    }
   ],
   "source": [
    "model_fit_ma.params"
   ]
  },
  {
   "cell_type": "code",
   "execution_count": 82,
   "id": "89ff4127",
   "metadata": {},
   "outputs": [
    {
     "name": "stderr",
     "output_type": "stream",
     "text": [
      "/home/local/ZOHOCORP/bharath-12053/Desktop/TSA/jupyterenv/lib/python3.8/site-packages/statsmodels/tsa/deterministic.py:302: UserWarning: Only PeriodIndexes, DatetimeIndexes with a frequency set, RangesIndexes, and Index with a unit increment support extending. The index is set will contain the position relative to the data length.\n",
      "  fcast_index = self._extend_index(index, steps, forecast_index)\n"
     ]
    }
   ],
   "source": [
    "pred_resi_ma = model_fit_ma.predict(start= len(train_ma), end= len(train_ma)+len(test_ma)-1)"
   ]
  },
  {
   "cell_type": "code",
   "execution_count": 83,
   "id": "1e6524a9",
   "metadata": {},
   "outputs": [],
   "source": [
    "prediction_values_ma = ma_df.p[ma_df.shape[0]-80:]+pred_resi_ma"
   ]
  },
  {
   "cell_type": "code",
   "execution_count": 84,
   "id": "01d2b65d",
   "metadata": {},
   "outputs": [
    {
     "data": {
      "text/plain": [
       "Month\n",
       "2016-05-01    44.000114\n",
       "2016-06-01    46.302435\n",
       "2016-07-01    47.958398\n",
       "2016-08-01    45.810432\n",
       "2016-09-01    46.317066\n",
       "                ...    \n",
       "2022-08-01    60.069420\n",
       "2022-09-01    60.069441\n",
       "2022-10-01    60.069428\n",
       "2022-11-01    61.069381\n",
       "2022-12-01    61.069340\n",
       "Length: 80, dtype: float64"
      ]
     },
     "execution_count": 84,
     "metadata": {},
     "output_type": "execute_result"
    }
   ],
   "source": [
    "prediction_values_ma"
   ]
  },
  {
   "cell_type": "code",
   "execution_count": 85,
   "id": "b3933aac",
   "metadata": {},
   "outputs": [
    {
     "data": {
      "text/plain": [
       "[<matplotlib.lines.Line2D at 0x7fb8207a3b80>]"
      ]
     },
     "execution_count": 85,
     "metadata": {},
     "output_type": "execute_result"
    },
    {
     "data": {
      "image/png": "[encoded data removed]",
      "text/plain": [
       "<Figure size 432x288 with 1 Axes>"
      ]
     },
     "metadata": {
      "needs_background": "light"
     },
     "output_type": "display_data"
    }
   ],
   "source": [
    "pyplot.plot(ma_df.Price[ma_df.shape[0]-80:],color=\"green\")\n",
    "pyplot.plot(prediction_values_ma, color=\"red\")"
   ]
  },
  {
   "cell_type": "code",
   "execution_count": 86,
   "id": "f4b196ea",
   "metadata": {},
   "outputs": [
    {
     "data": {
      "text/plain": [
       "27.093425550668258"
      ]
     },
     "execution_count": 86,
     "metadata": {},
     "output_type": "execute_result"
    }
   ],
   "source": [
    "from sklearn.metrics import mean_squared_error\n",
    "mse= mean_squared_error(ma_df.Price[ma_df.shape[0]-80:], prediction_values_ma)\n",
    "mse"
   ]
  },
  {
   "cell_type": "markdown",
   "id": "5cc4d814",
   "metadata": {},
   "source": []
  },
  {
   "cell_type": "markdown",
   "id": "06a6ff64",
   "metadata": {},
   "source": [
    "### Correlation \n",
    "   Relation between 2 variables.\n",
    "    \n",
    "| Coef. Value | Relationship | Inference |\n",
    "| --- | --- | --- |\n",
    "| +1 | Positive | If X increases Y also increases |\n",
    "| -1 | Negative | If X increase Y decreases |\n",
    "| 0 |  No Relationship | If X increases no effect on Y| \n",
    "\n",
    "But for Timesseries , instead of 2 different variables , we have a lagged values from one value,\n",
    "So thereafter it is called as Auto Correlation => Correlation with itself\n",
    "\n",
    "ρj^=∑Tt=j+1(yt−y¯)(yt−j−y¯)∑Tt=1(yt−y¯)2"
   ]
  },
  {
   "cell_type": "markdown",
   "id": "e4bd4015",
   "metadata": {},
   "source": [
    "## ARIMA\n",
    "### Auto Regression Integrated Moving Average\n",
    "In ARMA, the model cannot handle the trend,seasonality , whereas in ARIMA the model can handle trend (To handle season there is SARIMA)\n",
    "Intergrated - to handle trend\n",
    "It Integrates differencing method into ARMA to handle any types of series\n",
    "#### step 1\n",
    "Use differncing to remove trend\n",
    "#### step 2\n",
    "Use AR to do forecasting\n",
    "#### step 3\n",
    "Use MA on residuals to update the forecast\n",
    "#### step 4\n",
    "Add Trend and Seasonality to get the forecasted values\n",
    "\n",
    "**Three parameters that are required while using arima model**\n",
    "* P - Order of autoregression\n",
    "    How many lag variable to choose.\n",
    "    \n",
    "* D - Order of Intergration \n",
    "    Number of differncing needed.\n",
    "    \n",
    "* Q - Order of Moving Average \n",
    "    What is the window size for Moving Average."
   ]
  },
  {
   "cell_type": "code",
   "execution_count": 87,
   "id": "f92e1fa0",
   "metadata": {},
   "outputs": [],
   "source": [
    "df_arima = pd.read_csv('Brent Spot Price.csv')"
   ]
  },
  {
   "cell_type": "code",
   "execution_count": 88,
   "id": "17430832",
   "metadata": {},
   "outputs": [
    {
     "data": {
      "text/html": [
       "<div>\n",
       "<style scoped>\n",
       "    .dataframe tbody tr th:only-of-type {\n",
       "        vertical-align: middle;\n",
       "    }\n",
       "\n",
       "    .dataframe tbody tr th {\n",
       "        vertical-align: top;\n",
       "    }\n",
       "\n",
       "    .dataframe thead th {\n",
       "        text-align: right;\n",
       "    }\n",
       "</style>\n",
       "<table border=\"1\" class=\"dataframe\">\n",
       "  <thead>\n",
       "    <tr style=\"text-align: right;\">\n",
       "      <th></th>\n",
       "      <th>Unnamed: 0</th>\n",
       "      <th>Brent crude oil spot price, Monthly (dollars per barrel)</th>\n",
       "    </tr>\n",
       "  </thead>\n",
       "  <tbody>\n",
       "    <tr>\n",
       "      <th>0</th>\n",
       "      <td>1990 01</td>\n",
       "      <td>21.251</td>\n",
       "    </tr>\n",
       "    <tr>\n",
       "      <th>1</th>\n",
       "      <td>1990 02</td>\n",
       "      <td>19.813</td>\n",
       "    </tr>\n",
       "    <tr>\n",
       "      <th>2</th>\n",
       "      <td>1990 03</td>\n",
       "      <td>18.387</td>\n",
       "    </tr>\n",
       "    <tr>\n",
       "      <th>3</th>\n",
       "      <td>1990 04</td>\n",
       "      <td>16.612</td>\n",
       "    </tr>\n",
       "    <tr>\n",
       "      <th>4</th>\n",
       "      <td>1990 05</td>\n",
       "      <td>16.352</td>\n",
       "    </tr>\n",
       "  </tbody>\n",
       "</table>\n",
       "</div>"
      ],
      "text/plain": [
       "  Unnamed: 0  Brent crude oil spot price, Monthly (dollars per barrel)\n",
       "0   1990 01                                              21.251       \n",
       "1   1990 02                                              19.813       \n",
       "2   1990 03                                              18.387       \n",
       "3   1990 04                                              16.612       \n",
       "4   1990 05                                              16.352       "
      ]
     },
     "execution_count": 88,
     "metadata": {},
     "output_type": "execute_result"
    }
   ],
   "source": [
    "df_arima.head()"
   ]
  },
  {
   "cell_type": "code",
   "execution_count": 89,
   "id": "4d342c35",
   "metadata": {},
   "outputs": [],
   "source": [
    "df_arima=df_arima.rename(columns={'Unnamed: 0':'Month','Brent crude oil spot price, Monthly (dollars per barrel)': 'Price'},inplace=False)"
   ]
  },
  {
   "cell_type": "code",
   "execution_count": 90,
   "id": "b2506c6e",
   "metadata": {},
   "outputs": [
    {
     "data": {
      "text/html": [
       "<div>\n",
       "<style scoped>\n",
       "    .dataframe tbody tr th:only-of-type {\n",
       "        vertical-align: middle;\n",
       "    }\n",
       "\n",
       "    .dataframe tbody tr th {\n",
       "        vertical-align: top;\n",
       "    }\n",
       "\n",
       "    .dataframe thead th {\n",
       "        text-align: right;\n",
       "    }\n",
       "</style>\n",
       "<table border=\"1\" class=\"dataframe\">\n",
       "  <thead>\n",
       "    <tr style=\"text-align: right;\">\n",
       "      <th></th>\n",
       "      <th>Month</th>\n",
       "      <th>Price</th>\n",
       "    </tr>\n",
       "  </thead>\n",
       "  <tbody>\n",
       "    <tr>\n",
       "      <th>391</th>\n",
       "      <td>2022 08</td>\n",
       "      <td>60.0</td>\n",
       "    </tr>\n",
       "    <tr>\n",
       "      <th>392</th>\n",
       "      <td>2022 09</td>\n",
       "      <td>60.0</td>\n",
       "    </tr>\n",
       "    <tr>\n",
       "      <th>393</th>\n",
       "      <td>2022 10</td>\n",
       "      <td>61.0</td>\n",
       "    </tr>\n",
       "    <tr>\n",
       "      <th>394</th>\n",
       "      <td>2022 11</td>\n",
       "      <td>61.0</td>\n",
       "    </tr>\n",
       "    <tr>\n",
       "      <th>395</th>\n",
       "      <td>2022 12</td>\n",
       "      <td>61.0</td>\n",
       "    </tr>\n",
       "  </tbody>\n",
       "</table>\n",
       "</div>"
      ],
      "text/plain": [
       "        Month  Price\n",
       "391  2022 08    60.0\n",
       "392  2022 09    60.0\n",
       "393  2022 10    61.0\n",
       "394  2022 11    61.0\n",
       "395  2022 12    61.0"
      ]
     },
     "execution_count": 90,
     "metadata": {},
     "output_type": "execute_result"
    }
   ],
   "source": [
    "df_arima.tail()"
   ]
  },
  {
   "cell_type": "code",
   "execution_count": 91,
   "id": "b999fd9e",
   "metadata": {},
   "outputs": [
    {
     "data": {
      "text/plain": [
       "<AxesSubplot:>"
      ]
     },
     "execution_count": 91,
     "metadata": {},
     "output_type": "execute_result"
    },
    {
     "data": {
      "image/png": "[encoded data removed]",
      "text/plain": [
       "<Figure size 432x288 with 1 Axes>"
      ]
     },
     "metadata": {
      "needs_background": "light"
     },
     "output_type": "display_data"
    }
   ],
   "source": [
    "df_arima['Price'].plot()"
   ]
  },
  {
   "cell_type": "markdown",
   "id": "726135b2",
   "metadata": {},
   "source": [
    "The trend is quadratic so the D = 2"
   ]
  },
  {
   "cell_type": "markdown",
   "id": "aa87f39b",
   "metadata": {},
   "source": [
    "### Autocorrelation Plot"
   ]
  },
  {
   "cell_type": "code",
   "execution_count": 92,
   "id": "bb60d46c",
   "metadata": {},
   "outputs": [
    {
     "data": {
      "text/plain": [
       "<AxesSubplot:xlabel='Lag', ylabel='Autocorrelation'>"
      ]
     },
     "execution_count": 92,
     "metadata": {},
     "output_type": "execute_result"
    },
    {
     "data": {
      "image/png": "[encoded data removed]",
      "text/plain": [
       "<Figure size 432x288 with 1 Axes>"
      ]
     },
     "metadata": {
      "needs_background": "light"
     },
     "output_type": "display_data"
    }
   ],
   "source": [
    "from pandas.plotting import autocorrelation_plot\n",
    "autocorrelation_plot(df_arima['Price'])"
   ]
  },
  {
   "cell_type": "markdown",
   "id": "731054e1",
   "metadata": {},
   "source": [
    " p = 50 is the point before the confidence interval line "
   ]
  },
  {
   "cell_type": "markdown",
   "id": "552035ea",
   "metadata": {},
   "source": [
    "### Partial Autocorrelation Function"
   ]
  },
  {
   "cell_type": "code",
   "execution_count": 93,
   "id": "bb0ffc1d",
   "metadata": {},
   "outputs": [],
   "source": [
    "from statsmodels.graphics.tsaplots import plot_pacf"
   ]
  },
  {
   "cell_type": "code",
   "execution_count": 94,
   "id": "918a2d95",
   "metadata": {},
   "outputs": [
    {
     "name": "stderr",
     "output_type": "stream",
     "text": [
      "/home/local/ZOHOCORP/bharath-12053/Desktop/TSA/jupyterenv/lib/python3.8/site-packages/statsmodels/graphics/tsaplots.py:348: FutureWarning: The default method 'yw' can produce PACF values outside of the [-1,1] interval. After 0.13, the default will change tounadjusted Yule-Walker ('ywm'). You can use this method now by setting method='ywm'.\n",
      "  warnings.warn(\n"
     ]
    },
    {
     "data": {
      "image/png": "[encoded data removed]",
      "text/plain": [
       "<Figure size 432x288 with 1 Axes>"
      ]
     },
     "execution_count": 94,
     "metadata": {},
     "output_type": "execute_result"
    },
    {
     "data": {
      "image/png": "[encoded data removed]",
      "text/plain": [
       "<Figure size 432x288 with 1 Axes>"
      ]
     },
     "metadata": {
      "needs_background": "light"
     },
     "output_type": "display_data"
    }
   ],
   "source": [
    "plot_pacf(df_arima['Price'],lags=20)"
   ]
  },
  {
   "cell_type": "markdown",
   "id": "d7f00220",
   "metadata": {},
   "source": [
    "q=1\n"
   ]
  },
  {
   "cell_type": "code",
   "execution_count": 95,
   "id": "09a9c78b",
   "metadata": {},
   "outputs": [],
   "source": [
    "from statsmodels.tsa.arima.model import ARIMA"
   ]
  },
  {
   "cell_type": "code",
   "execution_count": 96,
   "id": "48282df4",
   "metadata": {},
   "outputs": [],
   "source": [
    "model_arima = ARIMA(df_arima['Price'], order=(80,2,1))"
   ]
  },
  {
   "cell_type": "code",
   "execution_count": 97,
   "id": "1afe2f2d",
   "metadata": {},
   "outputs": [
    {
     "name": "stderr",
     "output_type": "stream",
     "text": [
      "/home/local/ZOHOCORP/bharath-12053/Desktop/TSA/jupyterenv/lib/python3.8/site-packages/statsmodels/base/model.py:604: ConvergenceWarning: Maximum Likelihood optimization failed to converge. Check mle_retvals\n",
      "  warnings.warn(\"Maximum Likelihood optimization failed to \"\n"
     ]
    }
   ],
   "source": [
    "model_arima_fit = model_arima.fit()"
   ]
  },
  {
   "cell_type": "code",
   "execution_count": 98,
   "id": "ef25a2cb",
   "metadata": {},
   "outputs": [
    {
     "data": {
      "text/html": [
       "<table class=\"simpletable\">\n",
       "<caption>SARIMAX Results</caption>\n",
       "<tr>\n",
       "  <th>Dep. Variable:</th>         <td>Price</td>      <th>  No. Observations:  </th>    <td>396</td>   \n",
       "</tr>\n",
       "<tr>\n",
       "  <th>Model:</th>            <td>ARIMA(80, 2, 1)</td> <th>  Log Likelihood     </th> <td>-1090.032</td>\n",
       "</tr>\n",
       "<tr>\n",
       "  <th>Date:</th>            <td>Thu, 24 Feb 2022</td> <th>  AIC                </th> <td>2344.064</td> \n",
       "</tr>\n",
       "<tr>\n",
       "  <th>Time:</th>                <td>18:37:44</td>     <th>  BIC                </th> <td>2670.124</td> \n",
       "</tr>\n",
       "<tr>\n",
       "  <th>Sample:</th>                  <td>0</td>        <th>  HQIC               </th> <td>2473.265</td> \n",
       "</tr>\n",
       "<tr>\n",
       "  <th></th>                      <td> - 396</td>      <th>                     </th>     <td> </td>    \n",
       "</tr>\n",
       "<tr>\n",
       "  <th>Covariance Type:</th>        <td>opg</td>       <th>                     </th>     <td> </td>    \n",
       "</tr>\n",
       "</table>\n",
       "<table class=\"simpletable\">\n",
       "<tr>\n",
       "     <td></td>       <th>coef</th>     <th>std err</th>      <th>z</th>      <th>P>|z|</th>  <th>[0.025</th>    <th>0.975]</th>  \n",
       "</tr>\n",
       "<tr>\n",
       "  <th>ar.L1</th>  <td>    0.1465</td> <td>    0.388</td> <td>    0.378</td> <td> 0.706</td> <td>   -0.614</td> <td>    0.907</td>\n",
       "</tr>\n",
       "<tr>\n",
       "  <th>ar.L2</th>  <td>   -0.1868</td> <td>    0.210</td> <td>   -0.889</td> <td> 0.374</td> <td>   -0.599</td> <td>    0.225</td>\n",
       "</tr>\n",
       "<tr>\n",
       "  <th>ar.L3</th>  <td>   -0.2611</td> <td>    0.212</td> <td>   -1.233</td> <td> 0.218</td> <td>   -0.676</td> <td>    0.154</td>\n",
       "</tr>\n",
       "<tr>\n",
       "  <th>ar.L4</th>  <td>   -0.2623</td> <td>    0.243</td> <td>   -1.081</td> <td> 0.280</td> <td>   -0.738</td> <td>    0.213</td>\n",
       "</tr>\n",
       "<tr>\n",
       "  <th>ar.L5</th>  <td>   -0.2106</td> <td>    0.267</td> <td>   -0.787</td> <td> 0.431</td> <td>   -0.735</td> <td>    0.314</td>\n",
       "</tr>\n",
       "<tr>\n",
       "  <th>ar.L6</th>  <td>   -0.2792</td> <td>    0.269</td> <td>   -1.039</td> <td> 0.299</td> <td>   -0.806</td> <td>    0.247</td>\n",
       "</tr>\n",
       "<tr>\n",
       "  <th>ar.L7</th>  <td>   -0.1565</td> <td>    0.289</td> <td>   -0.541</td> <td> 0.589</td> <td>   -0.724</td> <td>    0.411</td>\n",
       "</tr>\n",
       "<tr>\n",
       "  <th>ar.L8</th>  <td>   -0.2594</td> <td>    0.255</td> <td>   -1.019</td> <td> 0.308</td> <td>   -0.758</td> <td>    0.240</td>\n",
       "</tr>\n",
       "<tr>\n",
       "  <th>ar.L9</th>  <td>   -0.3183</td> <td>    0.276</td> <td>   -1.152</td> <td> 0.249</td> <td>   -0.860</td> <td>    0.223</td>\n",
       "</tr>\n",
       "<tr>\n",
       "  <th>ar.L10</th> <td>   -0.2380</td> <td>    0.304</td> <td>   -0.784</td> <td> 0.433</td> <td>   -0.833</td> <td>    0.357</td>\n",
       "</tr>\n",
       "<tr>\n",
       "  <th>ar.L11</th> <td>   -0.1653</td> <td>    0.300</td> <td>   -0.551</td> <td> 0.582</td> <td>   -0.754</td> <td>    0.423</td>\n",
       "</tr>\n",
       "<tr>\n",
       "  <th>ar.L12</th> <td>   -0.2198</td> <td>    0.265</td> <td>   -0.828</td> <td> 0.408</td> <td>   -0.740</td> <td>    0.301</td>\n",
       "</tr>\n",
       "<tr>\n",
       "  <th>ar.L13</th> <td>   -0.3607</td> <td>    0.270</td> <td>   -1.338</td> <td> 0.181</td> <td>   -0.889</td> <td>    0.168</td>\n",
       "</tr>\n",
       "<tr>\n",
       "  <th>ar.L14</th> <td>   -0.2930</td> <td>    0.315</td> <td>   -0.930</td> <td> 0.353</td> <td>   -0.911</td> <td>    0.325</td>\n",
       "</tr>\n",
       "<tr>\n",
       "  <th>ar.L15</th> <td>   -0.1348</td> <td>    0.329</td> <td>   -0.410</td> <td> 0.682</td> <td>   -0.779</td> <td>    0.510</td>\n",
       "</tr>\n",
       "<tr>\n",
       "  <th>ar.L16</th> <td>   -0.2420</td> <td>    0.283</td> <td>   -0.856</td> <td> 0.392</td> <td>   -0.796</td> <td>    0.312</td>\n",
       "</tr>\n",
       "<tr>\n",
       "  <th>ar.L17</th> <td>   -0.2440</td> <td>    0.267</td> <td>   -0.914</td> <td> 0.361</td> <td>   -0.767</td> <td>    0.279</td>\n",
       "</tr>\n",
       "<tr>\n",
       "  <th>ar.L18</th> <td>   -0.3721</td> <td>    0.281</td> <td>   -1.325</td> <td> 0.185</td> <td>   -0.923</td> <td>    0.178</td>\n",
       "</tr>\n",
       "<tr>\n",
       "  <th>ar.L19</th> <td>   -0.1720</td> <td>    0.337</td> <td>   -0.510</td> <td> 0.610</td> <td>   -0.833</td> <td>    0.489</td>\n",
       "</tr>\n",
       "<tr>\n",
       "  <th>ar.L20</th> <td>   -0.2139</td> <td>    0.296</td> <td>   -0.723</td> <td> 0.470</td> <td>   -0.794</td> <td>    0.366</td>\n",
       "</tr>\n",
       "<tr>\n",
       "  <th>ar.L21</th> <td>   -0.1960</td> <td>    0.274</td> <td>   -0.716</td> <td> 0.474</td> <td>   -0.733</td> <td>    0.341</td>\n",
       "</tr>\n",
       "<tr>\n",
       "  <th>ar.L22</th> <td>   -0.2517</td> <td>    0.267</td> <td>   -0.943</td> <td> 0.346</td> <td>   -0.775</td> <td>    0.272</td>\n",
       "</tr>\n",
       "<tr>\n",
       "  <th>ar.L23</th> <td>   -0.2626</td> <td>    0.267</td> <td>   -0.983</td> <td> 0.325</td> <td>   -0.786</td> <td>    0.261</td>\n",
       "</tr>\n",
       "<tr>\n",
       "  <th>ar.L24</th> <td>   -0.2650</td> <td>    0.281</td> <td>   -0.942</td> <td> 0.346</td> <td>   -0.816</td> <td>    0.286</td>\n",
       "</tr>\n",
       "<tr>\n",
       "  <th>ar.L25</th> <td>   -0.0607</td> <td>    0.290</td> <td>   -0.210</td> <td> 0.834</td> <td>   -0.629</td> <td>    0.507</td>\n",
       "</tr>\n",
       "<tr>\n",
       "  <th>ar.L26</th> <td>   -0.3403</td> <td>    0.233</td> <td>   -1.461</td> <td> 0.144</td> <td>   -0.797</td> <td>    0.116</td>\n",
       "</tr>\n",
       "<tr>\n",
       "  <th>ar.L27</th> <td>   -0.2563</td> <td>    0.271</td> <td>   -0.947</td> <td> 0.343</td> <td>   -0.787</td> <td>    0.274</td>\n",
       "</tr>\n",
       "<tr>\n",
       "  <th>ar.L28</th> <td>   -0.2556</td> <td>    0.287</td> <td>   -0.889</td> <td> 0.374</td> <td>   -0.819</td> <td>    0.308</td>\n",
       "</tr>\n",
       "<tr>\n",
       "  <th>ar.L29</th> <td>   -0.2003</td> <td>    0.289</td> <td>   -0.694</td> <td> 0.488</td> <td>   -0.766</td> <td>    0.366</td>\n",
       "</tr>\n",
       "<tr>\n",
       "  <th>ar.L30</th> <td>   -0.2246</td> <td>    0.274</td> <td>   -0.818</td> <td> 0.413</td> <td>   -0.762</td> <td>    0.313</td>\n",
       "</tr>\n",
       "<tr>\n",
       "  <th>ar.L31</th> <td>   -0.2765</td> <td>    0.270</td> <td>   -1.022</td> <td> 0.307</td> <td>   -0.807</td> <td>    0.254</td>\n",
       "</tr>\n",
       "<tr>\n",
       "  <th>ar.L32</th> <td>   -0.3052</td> <td>    0.276</td> <td>   -1.104</td> <td> 0.270</td> <td>   -0.847</td> <td>    0.237</td>\n",
       "</tr>\n",
       "<tr>\n",
       "  <th>ar.L33</th> <td>   -0.1065</td> <td>    0.311</td> <td>   -0.343</td> <td> 0.732</td> <td>   -0.716</td> <td>    0.503</td>\n",
       "</tr>\n",
       "<tr>\n",
       "  <th>ar.L34</th> <td>   -0.1976</td> <td>    0.254</td> <td>   -0.780</td> <td> 0.436</td> <td>   -0.694</td> <td>    0.299</td>\n",
       "</tr>\n",
       "<tr>\n",
       "  <th>ar.L35</th> <td>   -0.1933</td> <td>    0.241</td> <td>   -0.801</td> <td> 0.423</td> <td>   -0.666</td> <td>    0.280</td>\n",
       "</tr>\n",
       "<tr>\n",
       "  <th>ar.L36</th> <td>   -0.2711</td> <td>    0.241</td> <td>   -1.124</td> <td> 0.261</td> <td>   -0.744</td> <td>    0.201</td>\n",
       "</tr>\n",
       "<tr>\n",
       "  <th>ar.L37</th> <td>   -0.1639</td> <td>    0.257</td> <td>   -0.639</td> <td> 0.523</td> <td>   -0.667</td> <td>    0.339</td>\n",
       "</tr>\n",
       "<tr>\n",
       "  <th>ar.L38</th> <td>   -0.1771</td> <td>    0.252</td> <td>   -0.703</td> <td> 0.482</td> <td>   -0.671</td> <td>    0.317</td>\n",
       "</tr>\n",
       "<tr>\n",
       "  <th>ar.L39</th> <td>   -0.1962</td> <td>    0.238</td> <td>   -0.825</td> <td> 0.409</td> <td>   -0.662</td> <td>    0.270</td>\n",
       "</tr>\n",
       "<tr>\n",
       "  <th>ar.L40</th> <td>   -0.2122</td> <td>    0.229</td> <td>   -0.927</td> <td> 0.354</td> <td>   -0.661</td> <td>    0.236</td>\n",
       "</tr>\n",
       "<tr>\n",
       "  <th>ar.L41</th> <td>   -0.2320</td> <td>    0.226</td> <td>   -1.025</td> <td> 0.305</td> <td>   -0.676</td> <td>    0.212</td>\n",
       "</tr>\n",
       "<tr>\n",
       "  <th>ar.L42</th> <td>   -0.2050</td> <td>    0.257</td> <td>   -0.798</td> <td> 0.425</td> <td>   -0.708</td> <td>    0.298</td>\n",
       "</tr>\n",
       "<tr>\n",
       "  <th>ar.L43</th> <td>   -0.0629</td> <td>    0.242</td> <td>   -0.260</td> <td> 0.795</td> <td>   -0.537</td> <td>    0.411</td>\n",
       "</tr>\n",
       "<tr>\n",
       "  <th>ar.L44</th> <td>   -0.1481</td> <td>    0.196</td> <td>   -0.754</td> <td> 0.451</td> <td>   -0.533</td> <td>    0.237</td>\n",
       "</tr>\n",
       "<tr>\n",
       "  <th>ar.L45</th> <td>   -0.3360</td> <td>    0.177</td> <td>   -1.893</td> <td> 0.058</td> <td>   -0.684</td> <td>    0.012</td>\n",
       "</tr>\n",
       "<tr>\n",
       "  <th>ar.L46</th> <td>   -0.1297</td> <td>    0.261</td> <td>   -0.497</td> <td> 0.619</td> <td>   -0.641</td> <td>    0.382</td>\n",
       "</tr>\n",
       "<tr>\n",
       "  <th>ar.L47</th> <td>   -0.1585</td> <td>    0.219</td> <td>   -0.724</td> <td> 0.469</td> <td>   -0.588</td> <td>    0.271</td>\n",
       "</tr>\n",
       "<tr>\n",
       "  <th>ar.L48</th> <td>   -0.1932</td> <td>    0.217</td> <td>   -0.892</td> <td> 0.372</td> <td>   -0.618</td> <td>    0.231</td>\n",
       "</tr>\n",
       "<tr>\n",
       "  <th>ar.L49</th> <td>   -0.2244</td> <td>    0.209</td> <td>   -1.074</td> <td> 0.283</td> <td>   -0.634</td> <td>    0.185</td>\n",
       "</tr>\n",
       "<tr>\n",
       "  <th>ar.L50</th> <td>   -0.0940</td> <td>    0.220</td> <td>   -0.428</td> <td> 0.669</td> <td>   -0.525</td> <td>    0.337</td>\n",
       "</tr>\n",
       "<tr>\n",
       "  <th>ar.L51</th> <td>   -0.1984</td> <td>    0.174</td> <td>   -1.138</td> <td> 0.255</td> <td>   -0.540</td> <td>    0.143</td>\n",
       "</tr>\n",
       "<tr>\n",
       "  <th>ar.L52</th> <td>   -0.1430</td> <td>    0.207</td> <td>   -0.691</td> <td> 0.489</td> <td>   -0.549</td> <td>    0.263</td>\n",
       "</tr>\n",
       "<tr>\n",
       "  <th>ar.L53</th> <td>   -0.1281</td> <td>    0.191</td> <td>   -0.672</td> <td> 0.502</td> <td>   -0.502</td> <td>    0.245</td>\n",
       "</tr>\n",
       "<tr>\n",
       "  <th>ar.L54</th> <td>   -0.3166</td> <td>    0.167</td> <td>   -1.901</td> <td> 0.057</td> <td>   -0.643</td> <td>    0.010</td>\n",
       "</tr>\n",
       "<tr>\n",
       "  <th>ar.L55</th> <td>   -0.1035</td> <td>    0.240</td> <td>   -0.432</td> <td> 0.666</td> <td>   -0.573</td> <td>    0.366</td>\n",
       "</tr>\n",
       "<tr>\n",
       "  <th>ar.L56</th> <td>   -0.0549</td> <td>    0.187</td> <td>   -0.293</td> <td> 0.769</td> <td>   -0.422</td> <td>    0.312</td>\n",
       "</tr>\n",
       "<tr>\n",
       "  <th>ar.L57</th> <td>   -0.1878</td> <td>    0.161</td> <td>   -1.163</td> <td> 0.245</td> <td>   -0.504</td> <td>    0.129</td>\n",
       "</tr>\n",
       "<tr>\n",
       "  <th>ar.L58</th> <td>   -0.2030</td> <td>    0.165</td> <td>   -1.232</td> <td> 0.218</td> <td>   -0.526</td> <td>    0.120</td>\n",
       "</tr>\n",
       "<tr>\n",
       "  <th>ar.L59</th> <td>   -0.1416</td> <td>    0.192</td> <td>   -0.737</td> <td> 0.461</td> <td>   -0.518</td> <td>    0.235</td>\n",
       "</tr>\n",
       "<tr>\n",
       "  <th>ar.L60</th> <td>   -0.1743</td> <td>    0.186</td> <td>   -0.935</td> <td> 0.350</td> <td>   -0.540</td> <td>    0.191</td>\n",
       "</tr>\n",
       "<tr>\n",
       "  <th>ar.L61</th> <td>   -0.0772</td> <td>    0.197</td> <td>   -0.392</td> <td> 0.695</td> <td>   -0.463</td> <td>    0.309</td>\n",
       "</tr>\n",
       "<tr>\n",
       "  <th>ar.L62</th> <td>   -0.2189</td> <td>    0.162</td> <td>   -1.352</td> <td> 0.176</td> <td>   -0.536</td> <td>    0.098</td>\n",
       "</tr>\n",
       "<tr>\n",
       "  <th>ar.L63</th> <td>    0.0050</td> <td>    0.194</td> <td>    0.026</td> <td> 0.979</td> <td>   -0.376</td> <td>    0.386</td>\n",
       "</tr>\n",
       "<tr>\n",
       "  <th>ar.L64</th> <td>   -0.2027</td> <td>    0.133</td> <td>   -1.524</td> <td> 0.128</td> <td>   -0.463</td> <td>    0.058</td>\n",
       "</tr>\n",
       "<tr>\n",
       "  <th>ar.L65</th> <td>   -0.1188</td> <td>    0.162</td> <td>   -0.734</td> <td> 0.463</td> <td>   -0.436</td> <td>    0.199</td>\n",
       "</tr>\n",
       "<tr>\n",
       "  <th>ar.L66</th> <td>   -0.0750</td> <td>    0.157</td> <td>   -0.478</td> <td> 0.633</td> <td>   -0.382</td> <td>    0.233</td>\n",
       "</tr>\n",
       "<tr>\n",
       "  <th>ar.L67</th> <td>   -0.1836</td> <td>    0.145</td> <td>   -1.268</td> <td> 0.205</td> <td>   -0.467</td> <td>    0.100</td>\n",
       "</tr>\n",
       "<tr>\n",
       "  <th>ar.L68</th> <td>   -0.0270</td> <td>    0.140</td> <td>   -0.193</td> <td> 0.847</td> <td>   -0.302</td> <td>    0.248</td>\n",
       "</tr>\n",
       "<tr>\n",
       "  <th>ar.L69</th> <td>   -0.0742</td> <td>    0.118</td> <td>   -0.629</td> <td> 0.529</td> <td>   -0.305</td> <td>    0.157</td>\n",
       "</tr>\n",
       "<tr>\n",
       "  <th>ar.L70</th> <td>   -0.0499</td> <td>    0.116</td> <td>   -0.431</td> <td> 0.667</td> <td>   -0.277</td> <td>    0.177</td>\n",
       "</tr>\n",
       "<tr>\n",
       "  <th>ar.L71</th> <td>   -0.1666</td> <td>    0.114</td> <td>   -1.458</td> <td> 0.145</td> <td>   -0.391</td> <td>    0.057</td>\n",
       "</tr>\n",
       "<tr>\n",
       "  <th>ar.L72</th> <td>   -0.0144</td> <td>    0.116</td> <td>   -0.125</td> <td> 0.901</td> <td>   -0.241</td> <td>    0.213</td>\n",
       "</tr>\n",
       "<tr>\n",
       "  <th>ar.L73</th> <td>   -0.0140</td> <td>    0.106</td> <td>   -0.132</td> <td> 0.895</td> <td>   -0.223</td> <td>    0.195</td>\n",
       "</tr>\n",
       "<tr>\n",
       "  <th>ar.L74</th> <td>   -0.0087</td> <td>    0.084</td> <td>   -0.104</td> <td> 0.917</td> <td>   -0.172</td> <td>    0.155</td>\n",
       "</tr>\n",
       "<tr>\n",
       "  <th>ar.L75</th> <td>   -0.0765</td> <td>    0.086</td> <td>   -0.895</td> <td> 0.371</td> <td>   -0.244</td> <td>    0.091</td>\n",
       "</tr>\n",
       "<tr>\n",
       "  <th>ar.L76</th> <td>   -0.0827</td> <td>    0.089</td> <td>   -0.933</td> <td> 0.351</td> <td>   -0.257</td> <td>    0.091</td>\n",
       "</tr>\n",
       "<tr>\n",
       "  <th>ar.L77</th> <td>    0.0036</td> <td>    0.086</td> <td>    0.042</td> <td> 0.967</td> <td>   -0.164</td> <td>    0.172</td>\n",
       "</tr>\n",
       "<tr>\n",
       "  <th>ar.L78</th> <td>   -0.0689</td> <td>    0.078</td> <td>   -0.879</td> <td> 0.380</td> <td>   -0.223</td> <td>    0.085</td>\n",
       "</tr>\n",
       "<tr>\n",
       "  <th>ar.L79</th> <td>   -0.0169</td> <td>    0.082</td> <td>   -0.207</td> <td> 0.836</td> <td>   -0.177</td> <td>    0.143</td>\n",
       "</tr>\n",
       "<tr>\n",
       "  <th>ar.L80</th> <td>   -0.1067</td> <td>    0.091</td> <td>   -1.178</td> <td> 0.239</td> <td>   -0.284</td> <td>    0.071</td>\n",
       "</tr>\n",
       "<tr>\n",
       "  <th>ma.L1</th>  <td>   -0.6687</td> <td>    0.389</td> <td>   -1.721</td> <td> 0.085</td> <td>   -1.430</td> <td>    0.093</td>\n",
       "</tr>\n",
       "<tr>\n",
       "  <th>sigma2</th> <td>   14.1658</td> <td>    1.096</td> <td>   12.926</td> <td> 0.000</td> <td>   12.018</td> <td>   16.314</td>\n",
       "</tr>\n",
       "</table>\n",
       "<table class=\"simpletable\">\n",
       "<tr>\n",
       "  <th>Ljung-Box (L1) (Q):</th>     <td>0.00</td> <th>  Jarque-Bera (JB):  </th> <td>180.10</td>\n",
       "</tr>\n",
       "<tr>\n",
       "  <th>Prob(Q):</th>                <td>0.99</td> <th>  Prob(JB):          </th>  <td>0.00</td> \n",
       "</tr>\n",
       "<tr>\n",
       "  <th>Heteroskedasticity (H):</th> <td>4.76</td> <th>  Skew:              </th>  <td>-0.77</td>\n",
       "</tr>\n",
       "<tr>\n",
       "  <th>Prob(H) (two-sided):</th>    <td>0.00</td> <th>  Kurtosis:          </th>  <td>5.93</td> \n",
       "</tr>\n",
       "</table><br/><br/>Warnings:<br/>[1] Covariance matrix calculated using the outer product of gradients (complex-step)."
      ],
      "text/plain": [
       "<class 'statsmodels.iolib.summary.Summary'>\n",
       "\"\"\"\n",
       "                               SARIMAX Results                                \n",
       "==============================================================================\n",
       "Dep. Variable:                  Price   No. Observations:                  396\n",
       "Model:                ARIMA(80, 2, 1)   Log Likelihood               -1090.032\n",
       "Date:                Thu, 24 Feb 2022   AIC                           2344.064\n",
       "Time:                        18:37:44   BIC                           2670.124\n",
       "Sample:                             0   HQIC                          2473.265\n",
       "                                - 396                                         \n",
       "Covariance Type:                  opg                                         \n",
       "==============================================================================\n",
       "                 coef    std err          z      P>|z|      [0.025      0.975]\n",
       "------------------------------------------------------------------------------\n",
       "ar.L1          0.1465      0.388      0.378      0.706      -0.614       0.907\n",
       "ar.L2         -0.1868      0.210     -0.889      0.374      -0.599       0.225\n",
       "ar.L3         -0.2611      0.212     -1.233      0.218      -0.676       0.154\n",
       "ar.L4         -0.2623      0.243     -1.081      0.280      -0.738       0.213\n",
       "ar.L5         -0.2106      0.267     -0.787      0.431      -0.735       0.314\n",
       "ar.L6         -0.2792      0.269     -1.039      0.299      -0.806       0.247\n",
       "ar.L7         -0.1565      0.289     -0.541      0.589      -0.724       0.411\n",
       "ar.L8         -0.2594      0.255     -1.019      0.308      -0.758       0.240\n",
       "ar.L9         -0.3183      0.276     -1.152      0.249      -0.860       0.223\n",
       "ar.L10        -0.2380      0.304     -0.784      0.433      -0.833       0.357\n",
       "ar.L11        -0.1653      0.300     -0.551      0.582      -0.754       0.423\n",
       "ar.L12        -0.2198      0.265     -0.828      0.408      -0.740       0.301\n",
       "ar.L13        -0.3607      0.270     -1.338      0.181      -0.889       0.168\n",
       "ar.L14        -0.2930      0.315     -0.930      0.353      -0.911       0.325\n",
       "ar.L15        -0.1348      0.329     -0.410      0.682      -0.779       0.510\n",
       "ar.L16        -0.2420      0.283     -0.856      0.392      -0.796       0.312\n",
       "ar.L17        -0.2440      0.267     -0.914      0.361      -0.767       0.279\n",
       "ar.L18        -0.3721      0.281     -1.325      0.185      -0.923       0.178\n",
       "ar.L19        -0.1720      0.337     -0.510      0.610      -0.833       0.489\n",
       "ar.L20        -0.2139      0.296     -0.723      0.470      -0.794       0.366\n",
       "ar.L21        -0.1960      0.274     -0.716      0.474      -0.733       0.341\n",
       "ar.L22        -0.2517      0.267     -0.943      0.346      -0.775       0.272\n",
       "ar.L23        -0.2626      0.267     -0.983      0.325      -0.786       0.261\n",
       "ar.L24        -0.2650      0.281     -0.942      0.346      -0.816       0.286\n",
       "ar.L25        -0.0607      0.290     -0.210      0.834      -0.629       0.507\n",
       "ar.L26        -0.3403      0.233     -1.461      0.144      -0.797       0.116\n",
       "ar.L27        -0.2563      0.271     -0.947      0.343      -0.787       0.274\n",
       "ar.L28        -0.2556      0.287     -0.889      0.374      -0.819       0.308\n",
       "ar.L29        -0.2003      0.289     -0.694      0.488      -0.766       0.366\n",
       "ar.L30        -0.2246      0.274     -0.818      0.413      -0.762       0.313\n",
       "ar.L31        -0.2765      0.270     -1.022      0.307      -0.807       0.254\n",
       "ar.L32        -0.3052      0.276     -1.104      0.270      -0.847       0.237\n",
       "ar.L33        -0.1065      0.311     -0.343      0.732      -0.716       0.503\n",
       "ar.L34        -0.1976      0.254     -0.780      0.436      -0.694       0.299\n",
       "ar.L35        -0.1933      0.241     -0.801      0.423      -0.666       0.280\n",
       "ar.L36        -0.2711      0.241     -1.124      0.261      -0.744       0.201\n",
       "ar.L37        -0.1639      0.257     -0.639      0.523      -0.667       0.339\n",
       "ar.L38        -0.1771      0.252     -0.703      0.482      -0.671       0.317\n",
       "ar.L39        -0.1962      0.238     -0.825      0.409      -0.662       0.270\n",
       "ar.L40        -0.2122      0.229     -0.927      0.354      -0.661       0.236\n",
       "ar.L41        -0.2320      0.226     -1.025      0.305      -0.676       0.212\n",
       "ar.L42        -0.2050      0.257     -0.798      0.425      -0.708       0.298\n",
       "ar.L43        -0.0629      0.242     -0.260      0.795      -0.537       0.411\n",
       "ar.L44        -0.1481      0.196     -0.754      0.451      -0.533       0.237\n",
       "ar.L45        -0.3360      0.177     -1.893      0.058      -0.684       0.012\n",
       "ar.L46        -0.1297      0.261     -0.497      0.619      -0.641       0.382\n",
       "ar.L47        -0.1585      0.219     -0.724      0.469      -0.588       0.271\n",
       "ar.L48        -0.1932      0.217     -0.892      0.372      -0.618       0.231\n",
       "ar.L49        -0.2244      0.209     -1.074      0.283      -0.634       0.185\n",
       "ar.L50        -0.0940      0.220     -0.428      0.669      -0.525       0.337\n",
       "ar.L51        -0.1984      0.174     -1.138      0.255      -0.540       0.143\n",
       "ar.L52        -0.1430      0.207     -0.691      0.489      -0.549       0.263\n",
       "ar.L53        -0.1281      0.191     -0.672      0.502      -0.502       0.245\n",
       "ar.L54        -0.3166      0.167     -1.901      0.057      -0.643       0.010\n",
       "ar.L55        -0.1035      0.240     -0.432      0.666      -0.573       0.366\n",
       "ar.L56        -0.0549      0.187     -0.293      0.769      -0.422       0.312\n",
       "ar.L57        -0.1878      0.161     -1.163      0.245      -0.504       0.129\n",
       "ar.L58        -0.2030      0.165     -1.232      0.218      -0.526       0.120\n",
       "ar.L59        -0.1416      0.192     -0.737      0.461      -0.518       0.235\n",
       "ar.L60        -0.1743      0.186     -0.935      0.350      -0.540       0.191\n",
       "ar.L61        -0.0772      0.197     -0.392      0.695      -0.463       0.309\n",
       "ar.L62        -0.2189      0.162     -1.352      0.176      -0.536       0.098\n",
       "ar.L63         0.0050      0.194      0.026      0.979      -0.376       0.386\n",
       "ar.L64        -0.2027      0.133     -1.524      0.128      -0.463       0.058\n",
       "ar.L65        -0.1188      0.162     -0.734      0.463      -0.436       0.199\n",
       "ar.L66        -0.0750      0.157     -0.478      0.633      -0.382       0.233\n",
       "ar.L67        -0.1836      0.145     -1.268      0.205      -0.467       0.100\n",
       "ar.L68        -0.0270      0.140     -0.193      0.847      -0.302       0.248\n",
       "ar.L69        -0.0742      0.118     -0.629      0.529      -0.305       0.157\n",
       "ar.L70        -0.0499      0.116     -0.431      0.667      -0.277       0.177\n",
       "ar.L71        -0.1666      0.114     -1.458      0.145      -0.391       0.057\n",
       "ar.L72        -0.0144      0.116     -0.125      0.901      -0.241       0.213\n",
       "ar.L73        -0.0140      0.106     -0.132      0.895      -0.223       0.195\n",
       "ar.L74        -0.0087      0.084     -0.104      0.917      -0.172       0.155\n",
       "ar.L75        -0.0765      0.086     -0.895      0.371      -0.244       0.091\n",
       "ar.L76        -0.0827      0.089     -0.933      0.351      -0.257       0.091\n",
       "ar.L77         0.0036      0.086      0.042      0.967      -0.164       0.172\n",
       "ar.L78        -0.0689      0.078     -0.879      0.380      -0.223       0.085\n",
       "ar.L79        -0.0169      0.082     -0.207      0.836      -0.177       0.143\n",
       "ar.L80        -0.1067      0.091     -1.178      0.239      -0.284       0.071\n",
       "ma.L1         -0.6687      0.389     -1.721      0.085      -1.430       0.093\n",
       "sigma2        14.1658      1.096     12.926      0.000      12.018      16.314\n",
       "===================================================================================\n",
       "Ljung-Box (L1) (Q):                   0.00   Jarque-Bera (JB):               180.10\n",
       "Prob(Q):                              0.99   Prob(JB):                         0.00\n",
       "Heteroskedasticity (H):               4.76   Skew:                            -0.77\n",
       "Prob(H) (two-sided):                  0.00   Kurtosis:                         5.93\n",
       "===================================================================================\n",
       "\n",
       "Warnings:\n",
       "[1] Covariance matrix calculated using the outer product of gradients (complex-step).\n",
       "\"\"\""
      ]
     },
     "execution_count": 98,
     "metadata": {},
     "output_type": "execute_result"
    }
   ],
   "source": [
    "model_arima_fit.summary()"
   ]
  },
  {
   "cell_type": "code",
   "execution_count": 99,
   "id": "5ef1a9bd",
   "metadata": {},
   "outputs": [],
   "source": [
    "resid_arima = model_arima_fit.resid"
   ]
  },
  {
   "cell_type": "code",
   "execution_count": 100,
   "id": "ed38151b",
   "metadata": {},
   "outputs": [
    {
     "data": {
      "text/plain": [
       "<AxesSubplot:>"
      ]
     },
     "execution_count": 100,
     "metadata": {},
     "output_type": "execute_result"
    },
    {
     "data": {
      "image/png": "[encoded data removed]",
      "text/plain": [
       "<Figure size 432x288 with 1 Axes>"
      ]
     },
     "metadata": {
      "needs_background": "light"
     },
     "output_type": "display_data"
    }
   ],
   "source": [
    "resid_arima.plot()"
   ]
  },
  {
   "cell_type": "code",
   "execution_count": 101,
   "id": "d1dbf24c",
   "metadata": {},
   "outputs": [
    {
     "data": {
      "text/plain": [
       "count    396.000000\n",
       "mean       0.044159\n",
       "std        3.977328\n",
       "min      -18.566367\n",
       "25%       -1.756126\n",
       "50%        0.096216\n",
       "75%        2.120338\n",
       "max       21.251000\n",
       "dtype: float64"
      ]
     },
     "execution_count": 101,
     "metadata": {},
     "output_type": "execute_result"
    }
   ],
   "source": [
    "resid_arima.describe()"
   ]
  },
  {
   "cell_type": "code",
   "execution_count": 102,
   "id": "45eb5dec",
   "metadata": {},
   "outputs": [],
   "source": [
    "output=model_arima_fit.forecast(10)"
   ]
  },
  {
   "cell_type": "code",
   "execution_count": 103,
   "id": "6cec0b59",
   "metadata": {},
   "outputs": [
    {
     "data": {
      "text/plain": [
       "396    55.496484\n",
       "397    54.321722\n",
       "398    55.363313\n",
       "399    55.756624\n",
       "400    59.324865\n",
       "401    59.972108\n",
       "402    60.438183\n",
       "403    58.499323\n",
       "404    60.526388\n",
       "405    59.947905\n",
       "Name: predicted_mean, dtype: float64"
      ]
     },
     "execution_count": 103,
     "metadata": {},
     "output_type": "execute_result"
    }
   ],
   "source": [
    "output"
   ]
  },
  {
   "cell_type": "markdown",
   "id": "b8d62698",
   "metadata": {},
   "source": []
  },
  {
   "cell_type": "code",
   "execution_count": null,
   "id": "46ab6a69",
   "metadata": {},
   "outputs": [],
   "source": []
  }
 ],
 "metadata": {
  "kernelspec": {
   "display_name": "Python 3 (ipykernel)",
   "language": "python",
   "name": "python3"
  },
  "language_info": {
   "codemirror_mode": {
    "name": "ipython",
    "version": 3
   },
   "file_extension": ".py",
   "mimetype": "text/x-python",
   "name": "python",
   "nbconvert_exporter": "python",
   "pygments_lexer": "ipython3",
   "version": "3.8.10"
  }
 },
 "nbformat": 4,
 "nbformat_minor": 5
}
